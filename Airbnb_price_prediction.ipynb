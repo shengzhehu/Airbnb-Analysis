{
  "nbformat": 4,
  "nbformat_minor": 0,
  "metadata": {
    "colab": {
      "name": "Airbnb price prediction project",
      "version": "0.3.2",
      "provenance": [],
      "collapsed_sections": []
    },
    "kernelspec": {
      "name": "python3",
      "display_name": "Python 3"
    }
  },
  "cells": [
    {
      "cell_type": "code",
      "metadata": {
        "id": "XVIrOyktUKSj",
        "colab_type": "code",
        "outputId": "56a4441d-f4e3-431a-95bc-7b9684c60c65",
        "colab": {
          "base_uri": "https://localhost:8080/",
          "height": 51
        }
      },
      "source": [
        "#1 Code to read csv file into colaboratory:\n",
        "!pip install -U -q PyDrive\n",
        "from pydrive.auth import GoogleAuth\n",
        "from pydrive.drive import GoogleDrive\n",
        "from google.colab import auth\n",
        "from oauth2client.client import GoogleCredentials\n",
        "\n",
        "# 1. Authenticate and create the PyDrive client.\n",
        "auth.authenticate_user()\n",
        "gauth = GoogleAuth()\n",
        "gauth.credentials = GoogleCredentials.get_application_default()\n",
        "drive = GoogleDrive(gauth)"
      ],
      "execution_count": 0,
      "outputs": [
        {
          "output_type": "stream",
          "text": [
            "\u001b[?25l\r\u001b[K    1% |▎                               | 10kB 13.6MB/s eta 0:00:01\r\u001b[K    2% |▋                               | 20kB 1.8MB/s eta 0:00:01\r\u001b[K    3% |█                               | 30kB 2.7MB/s eta 0:00:01\r\u001b[K    4% |█▎                              | 40kB 1.7MB/s eta 0:00:01\r\u001b[K    5% |█▋                              | 51kB 2.1MB/s eta 0:00:01\r\u001b[K    6% |██                              | 61kB 2.5MB/s eta 0:00:01\r\u001b[K    7% |██▎                             | 71kB 2.9MB/s eta 0:00:01\r\u001b[K    8% |██▋                             | 81kB 3.3MB/s eta 0:00:01\r\u001b[K    9% |███                             | 92kB 3.6MB/s eta 0:00:01\r\u001b[K    10% |███▎                            | 102kB 2.8MB/s eta 0:00:01\r\u001b[K    11% |███▋                            | 112kB 2.8MB/s eta 0:00:01\r\u001b[K    12% |████                            | 122kB 4.0MB/s eta 0:00:01\r\u001b[K    13% |████▎                           | 133kB 4.0MB/s eta 0:00:01\r\u001b[K    14% |████▋                           | 143kB 7.5MB/s eta 0:00:01\r\u001b[K    15% |█████                           | 153kB 7.6MB/s eta 0:00:01\r\u001b[K    16% |█████▎                          | 163kB 7.6MB/s eta 0:00:01\r\u001b[K    17% |█████▋                          | 174kB 7.6MB/s eta 0:00:01\r\u001b[K    18% |██████                          | 184kB 7.7MB/s eta 0:00:01\r\u001b[K    19% |██████▎                         | 194kB 7.7MB/s eta 0:00:01\r\u001b[K    20% |██████▋                         | 204kB 37.7MB/s eta 0:00:01\r\u001b[K    21% |███████                         | 215kB 8.5MB/s eta 0:00:01\r\u001b[K    22% |███████▎                        | 225kB 8.4MB/s eta 0:00:01\r\u001b[K    23% |███████▋                        | 235kB 8.5MB/s eta 0:00:01\r\u001b[K    24% |████████                        | 245kB 8.5MB/s eta 0:00:01\r\u001b[K    25% |████████▎                       | 256kB 8.5MB/s eta 0:00:01\r\u001b[K    26% |████████▋                       | 266kB 8.3MB/s eta 0:00:01\r\u001b[K    27% |█████████                       | 276kB 8.4MB/s eta 0:00:01\r\u001b[K    29% |█████████▎                      | 286kB 8.4MB/s eta 0:00:01\r\u001b[K    30% |█████████▋                      | 296kB 8.4MB/s eta 0:00:01\r\u001b[K    31% |██████████                      | 307kB 8.6MB/s eta 0:00:01\r\u001b[K    32% |██████████▎                     | 317kB 42.7MB/s eta 0:00:01\r\u001b[K    33% |██████████▋                     | 327kB 46.0MB/s eta 0:00:01\r\u001b[K    34% |███████████                     | 337kB 47.6MB/s eta 0:00:01\r\u001b[K    35% |███████████▎                    | 348kB 43.1MB/s eta 0:00:01\r\u001b[K    36% |███████████▋                    | 358kB 42.1MB/s eta 0:00:01\r\u001b[K    37% |████████████                    | 368kB 49.8MB/s eta 0:00:01\r\u001b[K    38% |████████████▎                   | 378kB 49.4MB/s eta 0:00:01\r\u001b[K    39% |████████████▋                   | 389kB 49.6MB/s eta 0:00:01\r\u001b[K    40% |█████████████                   | 399kB 9.6MB/s eta 0:00:01\r\u001b[K    41% |█████████████▎                  | 409kB 9.5MB/s eta 0:00:01\r\u001b[K    42% |█████████████▋                  | 419kB 9.5MB/s eta 0:00:01\r\u001b[K    43% |██████████████                  | 430kB 9.4MB/s eta 0:00:01\r\u001b[K    44% |██████████████▎                 | 440kB 9.4MB/s eta 0:00:01\r\u001b[K    45% |██████████████▋                 | 450kB 9.4MB/s eta 0:00:01\r\u001b[K    46% |███████████████                 | 460kB 9.3MB/s eta 0:00:01\r\u001b[K    47% |███████████████▎                | 471kB 9.3MB/s eta 0:00:01\r\u001b[K    48% |███████████████▋                | 481kB 9.4MB/s eta 0:00:01\r\u001b[K    49% |████████████████                | 491kB 9.3MB/s eta 0:00:01\r\u001b[K    50% |████████████████▎               | 501kB 43.9MB/s eta 0:00:01\r\u001b[K    51% |████████████████▋               | 512kB 42.4MB/s eta 0:00:01\r\u001b[K    52% |█████████████████               | 522kB 43.5MB/s eta 0:00:01\r\u001b[K    53% |█████████████████▎              | 532kB 45.2MB/s eta 0:00:01\r\u001b[K    54% |█████████████████▋              | 542kB 45.2MB/s eta 0:00:01\r\u001b[K    55% |██████████████████              | 552kB 51.6MB/s eta 0:00:01\r\u001b[K    57% |██████████████████▎             | 563kB 52.2MB/s eta 0:00:01\r\u001b[K    58% |██████████████████▋             | 573kB 51.7MB/s eta 0:00:01\r\u001b[K    59% |███████████████████             | 583kB 52.0MB/s eta 0:00:01\r\u001b[K    60% |███████████████████▎            | 593kB 51.7MB/s eta 0:00:01\r\u001b[K    61% |███████████████████▋            | 604kB 51.6MB/s eta 0:00:01\r\u001b[K    62% |████████████████████            | 614kB 57.9MB/s eta 0:00:01\r\u001b[K    63% |████████████████████▎           | 624kB 55.4MB/s eta 0:00:01\r\u001b[K    64% |████████████████████▋           | 634kB 55.4MB/s eta 0:00:01\r\u001b[K    65% |█████████████████████           | 645kB 55.4MB/s eta 0:00:01\r\u001b[K    66% |█████████████████████▎          | 655kB 55.3MB/s eta 0:00:01\r\u001b[K    67% |█████████████████████▋          | 665kB 43.7MB/s eta 0:00:01\r\u001b[K    68% |██████████████████████          | 675kB 43.7MB/s eta 0:00:01\r\u001b[K    69% |██████████████████████▎         | 686kB 43.9MB/s eta 0:00:01\r\u001b[K    70% |██████████████████████▋         | 696kB 44.1MB/s eta 0:00:01\r\u001b[K    71% |███████████████████████         | 706kB 42.9MB/s eta 0:00:01\r\u001b[K    72% |███████████████████████▎        | 716kB 43.6MB/s eta 0:00:01\r\u001b[K    73% |███████████████████████▋        | 727kB 45.2MB/s eta 0:00:01\r\u001b[K    74% |████████████████████████        | 737kB 45.1MB/s eta 0:00:01\r\u001b[K    75% |████████████████████████▎       | 747kB 45.3MB/s eta 0:00:01\r\u001b[K    76% |████████████████████████▋       | 757kB 44.8MB/s eta 0:00:01\r\u001b[K    77% |████████████████████████▉       | 768kB 57.7MB/s eta 0:00:01\r\u001b[K    78% |█████████████████████████▏      | 778kB 16.1MB/s eta 0:00:01\r\u001b[K    79% |█████████████████████████▌      | 788kB 15.7MB/s eta 0:00:01\r\u001b[K    80% |█████████████████████████▉      | 798kB 15.6MB/s eta 0:00:01\r\u001b[K    81% |██████████████████████████▏     | 808kB 15.6MB/s eta 0:00:01\r\u001b[K    82% |██████████████████████████▌     | 819kB 15.5MB/s eta 0:00:01\r\u001b[K    83% |██████████████████████████▉     | 829kB 15.3MB/s eta 0:00:01\r\u001b[K    85% |███████████████████████████▏    | 839kB 15.3MB/s eta 0:00:01\r\u001b[K    86% |███████████████████████████▌    | 849kB 15.2MB/s eta 0:00:01\r\u001b[K    87% |███████████████████████████▉    | 860kB 14.7MB/s eta 0:00:01\r\u001b[K    88% |████████████████████████████▏   | 870kB 14.7MB/s eta 0:00:01\r\u001b[K    89% |████████████████████████████▌   | 880kB 43.7MB/s eta 0:00:01\r\u001b[K    90% |████████████████████████████▉   | 890kB 45.9MB/s eta 0:00:01\r\u001b[K    91% |█████████████████████████████▏  | 901kB 47.1MB/s eta 0:00:01\r\u001b[K    92% |█████████████████████████████▌  | 911kB 48.2MB/s eta 0:00:01\r\u001b[K    93% |█████████████████████████████▉  | 921kB 47.9MB/s eta 0:00:01\r\u001b[K    94% |██████████████████████████████▏ | 931kB 49.1MB/s eta 0:00:01\r\u001b[K    95% |██████████████████████████████▌ | 942kB 50.0MB/s eta 0:00:01\r\u001b[K    96% |██████████████████████████████▉ | 952kB 50.3MB/s eta 0:00:01\r\u001b[K    97% |███████████████████████████████▏| 962kB 58.2MB/s eta 0:00:01\r\u001b[K    98% |███████████████████████████████▌| 972kB 60.2MB/s eta 0:00:01\r\u001b[K    99% |███████████████████████████████▉| 983kB 57.3MB/s eta 0:00:01\r\u001b[K    100% |████████████████████████████████| 993kB 19.4MB/s \n",
            "\u001b[?25h  Building wheel for PyDrive (setup.py) ... \u001b[?25ldone\n",
            "\u001b[?25h"
          ],
          "name": "stdout"
        }
      ]
    },
    {
      "cell_type": "code",
      "metadata": {
        "id": "YKqW5iQlUQf9",
        "colab_type": "code",
        "colab": {}
      },
      "source": [
        "import pandas as pd\n",
        "import numpy as np\n",
        "pd.set_option('display.max_columns', 500)\n",
        "import matplotlib.pyplot as plt\n",
        "from sklearn.model_selection import train_test_split\n",
        "from sklearn.ensemble import RandomForestRegressor\n",
        "import seaborn as sns\n",
        "%matplotlib inline"
      ],
      "execution_count": 0,
      "outputs": []
    },
    {
      "cell_type": "code",
      "metadata": {
        "id": "k573rTcMUQi4",
        "colab_type": "code",
        "colab": {}
      },
      "source": [
        "downloaded = drive.CreateFile({'id':'1OYVkERZQgxFZCF1ga8aBz3-FABj8IMU8'}) \n",
        "downloaded.GetContentFile('listing_full_fixed.csv')\n",
        "\n",
        "downloaded = drive.CreateFile({'id':'1NrsuT4Rm1CX9WHHhtXvNtvwx9pvNYXIf'}) \n",
        "downloaded.GetContentFile('calendar_ar.csv')\n"
      ],
      "execution_count": 0,
      "outputs": []
    },
    {
      "cell_type": "code",
      "metadata": {
        "id": "9YZsO-XnUQq5",
        "colab_type": "code",
        "colab": {}
      },
      "source": [
        "listing = pd.read_csv('listing_full_fixed.csv')\n",
        "calendar = pd.read_csv('calendar_ar.csv')"
      ],
      "execution_count": 0,
      "outputs": []
    },
    {
      "cell_type": "code",
      "metadata": {
        "id": "be3LEp6_lZYb",
        "colab_type": "code",
        "outputId": "ea422e33-8cb4-46eb-fccb-60d3e3012b61",
        "colab": {
          "base_uri": "https://localhost:8080/",
          "height": 204
        }
      },
      "source": [
        "calendar.head()"
      ],
      "execution_count": 0,
      "outputs": [
        {
          "output_type": "execute_result",
          "data": {
            "text/html": [
              "<div>\n",
              "<style scoped>\n",
              "    .dataframe tbody tr th:only-of-type {\n",
              "        vertical-align: middle;\n",
              "    }\n",
              "\n",
              "    .dataframe tbody tr th {\n",
              "        vertical-align: top;\n",
              "    }\n",
              "\n",
              "    .dataframe thead th {\n",
              "        text-align: right;\n",
              "    }\n",
              "</style>\n",
              "<table border=\"1\" class=\"dataframe\">\n",
              "  <thead>\n",
              "    <tr style=\"text-align: right;\">\n",
              "      <th></th>\n",
              "      <th>listing_id</th>\n",
              "      <th>date</th>\n",
              "      <th>available</th>\n",
              "      <th>price</th>\n",
              "    </tr>\n",
              "  </thead>\n",
              "  <tbody>\n",
              "    <tr>\n",
              "      <th>0</th>\n",
              "      <td>21267</td>\n",
              "      <td>3/1/18</td>\n",
              "      <td>t</td>\n",
              "      <td>$75.00</td>\n",
              "    </tr>\n",
              "    <tr>\n",
              "      <th>1</th>\n",
              "      <td>21267</td>\n",
              "      <td>3/2/18</td>\n",
              "      <td>t</td>\n",
              "      <td>$75.00</td>\n",
              "    </tr>\n",
              "    <tr>\n",
              "      <th>2</th>\n",
              "      <td>21267</td>\n",
              "      <td>3/3/18</td>\n",
              "      <td>t</td>\n",
              "      <td>$75.00</td>\n",
              "    </tr>\n",
              "    <tr>\n",
              "      <th>3</th>\n",
              "      <td>21267</td>\n",
              "      <td>3/4/18</td>\n",
              "      <td>t</td>\n",
              "      <td>$75.00</td>\n",
              "    </tr>\n",
              "    <tr>\n",
              "      <th>4</th>\n",
              "      <td>21267</td>\n",
              "      <td>3/5/18</td>\n",
              "      <td>t</td>\n",
              "      <td>$75.00</td>\n",
              "    </tr>\n",
              "  </tbody>\n",
              "</table>\n",
              "</div>"
            ],
            "text/plain": [
              "   listing_id    date available    price\n",
              "0       21267  3/1/18         t  $75.00 \n",
              "1       21267  3/2/18         t  $75.00 \n",
              "2       21267  3/3/18         t  $75.00 \n",
              "3       21267  3/4/18         t  $75.00 \n",
              "4       21267  3/5/18         t  $75.00 "
            ]
          },
          "metadata": {
            "tags": []
          },
          "execution_count": 5
        }
      ]
    },
    {
      "cell_type": "code",
      "metadata": {
        "id": "rWDoaHQplRL8",
        "colab_type": "code",
        "outputId": "4675f642-ab95-4264-97c1-fc78f448b396",
        "colab": {
          "base_uri": "https://localhost:8080/",
          "height": 530
        }
      },
      "source": [
        "listing.head()"
      ],
      "execution_count": 0,
      "outputs": [
        {
          "output_type": "execute_result",
          "data": {
            "text/html": [
              "<div>\n",
              "<style scoped>\n",
              "    .dataframe tbody tr th:only-of-type {\n",
              "        vertical-align: middle;\n",
              "    }\n",
              "\n",
              "    .dataframe tbody tr th {\n",
              "        vertical-align: top;\n",
              "    }\n",
              "\n",
              "    .dataframe thead th {\n",
              "        text-align: right;\n",
              "    }\n",
              "</style>\n",
              "<table border=\"1\" class=\"dataframe\">\n",
              "  <thead>\n",
              "    <tr style=\"text-align: right;\">\n",
              "      <th></th>\n",
              "      <th>listing_id</th>\n",
              "      <th>name</th>\n",
              "      <th>host_id</th>\n",
              "      <th>host_name</th>\n",
              "      <th>host_is_superhost</th>\n",
              "      <th>host_verifications</th>\n",
              "      <th>host_has_profile_pic</th>\n",
              "      <th>host_identity_verified</th>\n",
              "      <th>street</th>\n",
              "      <th>neighbourhood_cleansed</th>\n",
              "      <th>state</th>\n",
              "      <th>latitude</th>\n",
              "      <th>longitude</th>\n",
              "      <th>property_type</th>\n",
              "      <th>room_type</th>\n",
              "      <th>accommodates</th>\n",
              "      <th>bathrooms</th>\n",
              "      <th>bedrooms</th>\n",
              "      <th>beds</th>\n",
              "      <th>bed_type</th>\n",
              "      <th>price</th>\n",
              "      <th>security_deposit</th>\n",
              "      <th>cleaning_fee</th>\n",
              "      <th>guests_included</th>\n",
              "      <th>extra_people</th>\n",
              "      <th>minimum_nights</th>\n",
              "      <th>maximum_nights</th>\n",
              "      <th>number_of_reviews</th>\n",
              "      <th>review_scores_rating</th>\n",
              "      <th>instant_bookable</th>\n",
              "      <th>cancellation_policy</th>\n",
              "      <th>require_guest_profile_picture</th>\n",
              "      <th>require_guest_phone_verification</th>\n",
              "      <th>reviews_per_month</th>\n",
              "    </tr>\n",
              "  </thead>\n",
              "  <tbody>\n",
              "    <tr>\n",
              "      <th>0</th>\n",
              "      <td>2577</td>\n",
              "      <td>Loft for 4 by Canal Saint Martin</td>\n",
              "      <td>2827</td>\n",
              "      <td>Karine</td>\n",
              "      <td>f</td>\n",
              "      <td>['email', 'phone', 'reviews', 'jumio', 'govern...</td>\n",
              "      <td>t</td>\n",
              "      <td>t</td>\n",
              "      <td>Paris, ÃŽle-de-France, France</td>\n",
              "      <td>EntrepÃ´t</td>\n",
              "      <td>ÃŽle-de-France</td>\n",
              "      <td>48.869933</td>\n",
              "      <td>2.362511</td>\n",
              "      <td>Loft</td>\n",
              "      <td>Entire home/apt</td>\n",
              "      <td>4</td>\n",
              "      <td>2.0</td>\n",
              "      <td>2.0</td>\n",
              "      <td>2.0</td>\n",
              "      <td>Real Bed</td>\n",
              "      <td>$125.00</td>\n",
              "      <td>$0.00</td>\n",
              "      <td>$40.00</td>\n",
              "      <td>1</td>\n",
              "      <td>$0.00</td>\n",
              "      <td>3</td>\n",
              "      <td>1125</td>\n",
              "      <td>1</td>\n",
              "      <td>100.0</td>\n",
              "      <td>t</td>\n",
              "      <td>strict_14_with_grace_period</td>\n",
              "      <td>f</td>\n",
              "      <td>f</td>\n",
              "      <td>0.86</td>\n",
              "    </tr>\n",
              "    <tr>\n",
              "      <th>1</th>\n",
              "      <td>5396</td>\n",
              "      <td>Explore the heart of old Paris</td>\n",
              "      <td>7903</td>\n",
              "      <td>Borzou</td>\n",
              "      <td>f</td>\n",
              "      <td>['email', 'phone', 'facebook', 'google', 'revi...</td>\n",
              "      <td>t</td>\n",
              "      <td>t</td>\n",
              "      <td>Paris, Ile-de-France, France</td>\n",
              "      <td>HÃ´tel-de-Ville</td>\n",
              "      <td>Ile-de-France</td>\n",
              "      <td>48.851001</td>\n",
              "      <td>2.358690</td>\n",
              "      <td>Apartment</td>\n",
              "      <td>Entire home/apt</td>\n",
              "      <td>2</td>\n",
              "      <td>1.0</td>\n",
              "      <td>0.0</td>\n",
              "      <td>1.0</td>\n",
              "      <td>Pull-out Sofa</td>\n",
              "      <td>$115.00</td>\n",
              "      <td>$0.00</td>\n",
              "      <td>$36.00</td>\n",
              "      <td>1</td>\n",
              "      <td>$0.00</td>\n",
              "      <td>1</td>\n",
              "      <td>90</td>\n",
              "      <td>156</td>\n",
              "      <td>93.0</td>\n",
              "      <td>t</td>\n",
              "      <td>strict_14_with_grace_period</td>\n",
              "      <td>f</td>\n",
              "      <td>f</td>\n",
              "      <td>1.33</td>\n",
              "    </tr>\n",
              "    <tr>\n",
              "      <th>2</th>\n",
              "      <td>7397</td>\n",
              "      <td>MARAIS - 2ROOMS APT - 2/4 PEOPLE</td>\n",
              "      <td>2626</td>\n",
              "      <td>Franck</td>\n",
              "      <td>t</td>\n",
              "      <td>['email', 'phone', 'reviews', 'jumio', 'offlin...</td>\n",
              "      <td>t</td>\n",
              "      <td>t</td>\n",
              "      <td>Paris, ÃŽle-de-France, France</td>\n",
              "      <td>HÃ´tel-de-Ville</td>\n",
              "      <td>ÃŽle-de-France</td>\n",
              "      <td>48.857576</td>\n",
              "      <td>2.352751</td>\n",
              "      <td>Apartment</td>\n",
              "      <td>Entire home/apt</td>\n",
              "      <td>4</td>\n",
              "      <td>1.0</td>\n",
              "      <td>2.0</td>\n",
              "      <td>2.0</td>\n",
              "      <td>Real Bed</td>\n",
              "      <td>$115.00</td>\n",
              "      <td>$200.00</td>\n",
              "      <td>$50.00</td>\n",
              "      <td>2</td>\n",
              "      <td>$10.00</td>\n",
              "      <td>10</td>\n",
              "      <td>23</td>\n",
              "      <td>236</td>\n",
              "      <td>94.0</td>\n",
              "      <td>f</td>\n",
              "      <td>moderate</td>\n",
              "      <td>f</td>\n",
              "      <td>f</td>\n",
              "      <td>2.47</td>\n",
              "    </tr>\n",
              "    <tr>\n",
              "      <th>3</th>\n",
              "      <td>7964</td>\n",
              "      <td>Large &amp; sunny flat with balcony !</td>\n",
              "      <td>22155</td>\n",
              "      <td>AnaÃ¯s</td>\n",
              "      <td>f</td>\n",
              "      <td>['email', 'phone', 'reviews', 'jumio', 'offlin...</td>\n",
              "      <td>t</td>\n",
              "      <td>t</td>\n",
              "      <td>Paris, ÃŽle-de-France, France</td>\n",
              "      <td>OpÃ©ra</td>\n",
              "      <td>ÃŽle-de-France</td>\n",
              "      <td>48.874642</td>\n",
              "      <td>2.343411</td>\n",
              "      <td>Apartment</td>\n",
              "      <td>Entire home/apt</td>\n",
              "      <td>2</td>\n",
              "      <td>1.0</td>\n",
              "      <td>2.0</td>\n",
              "      <td>2.0</td>\n",
              "      <td>Real Bed</td>\n",
              "      <td>$99.00</td>\n",
              "      <td>$500.00</td>\n",
              "      <td>$60.00</td>\n",
              "      <td>2</td>\n",
              "      <td>$45.00</td>\n",
              "      <td>3</td>\n",
              "      <td>365</td>\n",
              "      <td>6</td>\n",
              "      <td>96.0</td>\n",
              "      <td>f</td>\n",
              "      <td>strict_14_with_grace_period</td>\n",
              "      <td>f</td>\n",
              "      <td>f</td>\n",
              "      <td>0.06</td>\n",
              "    </tr>\n",
              "    <tr>\n",
              "      <th>4</th>\n",
              "      <td>8522</td>\n",
              "      <td>GREAT FLAT w/ CITY VIEW</td>\n",
              "      <td>25435</td>\n",
              "      <td>Adrien</td>\n",
              "      <td>f</td>\n",
              "      <td>['email', 'phone', 'reviews']</td>\n",
              "      <td>t</td>\n",
              "      <td>f</td>\n",
              "      <td>Paris, Ile-de-France, France</td>\n",
              "      <td>MÃ©nilmontant</td>\n",
              "      <td>Ile-de-France</td>\n",
              "      <td>48.865279</td>\n",
              "      <td>2.393263</td>\n",
              "      <td>Apartment</td>\n",
              "      <td>Entire home/apt</td>\n",
              "      <td>3</td>\n",
              "      <td>1.0</td>\n",
              "      <td>1.0</td>\n",
              "      <td>1.0</td>\n",
              "      <td>Real Bed</td>\n",
              "      <td>$90.00</td>\n",
              "      <td>NaN</td>\n",
              "      <td>NaN</td>\n",
              "      <td>1</td>\n",
              "      <td>$0.00</td>\n",
              "      <td>3</td>\n",
              "      <td>365</td>\n",
              "      <td>1</td>\n",
              "      <td>100.0</td>\n",
              "      <td>f</td>\n",
              "      <td>moderate</td>\n",
              "      <td>f</td>\n",
              "      <td>f</td>\n",
              "      <td>0.01</td>\n",
              "    </tr>\n",
              "  </tbody>\n",
              "</table>\n",
              "</div>"
            ],
            "text/plain": [
              "   listing_id                               name  host_id host_name  \\\n",
              "0        2577   Loft for 4 by Canal Saint Martin     2827    Karine   \n",
              "1        5396     Explore the heart of old Paris     7903    Borzou   \n",
              "2        7397   MARAIS - 2ROOMS APT - 2/4 PEOPLE     2626    Franck   \n",
              "3        7964  Large & sunny flat with balcony !    22155    AnaÃ¯s   \n",
              "4        8522            GREAT FLAT w/ CITY VIEW    25435    Adrien   \n",
              "\n",
              "  host_is_superhost                                 host_verifications  \\\n",
              "0                 f  ['email', 'phone', 'reviews', 'jumio', 'govern...   \n",
              "1                 f  ['email', 'phone', 'facebook', 'google', 'revi...   \n",
              "2                 t  ['email', 'phone', 'reviews', 'jumio', 'offlin...   \n",
              "3                 f  ['email', 'phone', 'reviews', 'jumio', 'offlin...   \n",
              "4                 f                      ['email', 'phone', 'reviews']   \n",
              "\n",
              "  host_has_profile_pic host_identity_verified                         street  \\\n",
              "0                    t                      t  Paris, ÃŽle-de-France, France   \n",
              "1                    t                      t   Paris, Ile-de-France, France   \n",
              "2                    t                      t  Paris, ÃŽle-de-France, France   \n",
              "3                    t                      t  Paris, ÃŽle-de-France, France   \n",
              "4                    t                      f   Paris, Ile-de-France, France   \n",
              "\n",
              "  neighbourhood_cleansed           state   latitude  longitude property_type  \\\n",
              "0              EntrepÃ´t  ÃŽle-de-France  48.869933   2.362511          Loft   \n",
              "1        HÃ´tel-de-Ville   Ile-de-France  48.851001   2.358690     Apartment   \n",
              "2        HÃ´tel-de-Ville  ÃŽle-de-France  48.857576   2.352751     Apartment   \n",
              "3                 OpÃ©ra  ÃŽle-de-France  48.874642   2.343411     Apartment   \n",
              "4          MÃ©nilmontant   Ile-de-France  48.865279   2.393263     Apartment   \n",
              "\n",
              "         room_type  accommodates  bathrooms  bedrooms  beds       bed_type  \\\n",
              "0  Entire home/apt             4        2.0       2.0   2.0       Real Bed   \n",
              "1  Entire home/apt             2        1.0       0.0   1.0  Pull-out Sofa   \n",
              "2  Entire home/apt             4        1.0       2.0   2.0       Real Bed   \n",
              "3  Entire home/apt             2        1.0       2.0   2.0       Real Bed   \n",
              "4  Entire home/apt             3        1.0       1.0   1.0       Real Bed   \n",
              "\n",
              "      price security_deposit cleaning_fee  guests_included extra_people  \\\n",
              "0  $125.00            $0.00       $40.00                 1       $0.00    \n",
              "1  $115.00            $0.00       $36.00                 1       $0.00    \n",
              "2  $115.00          $200.00       $50.00                 2      $10.00    \n",
              "3   $99.00          $500.00       $60.00                 2      $45.00    \n",
              "4   $90.00               NaN          NaN                1       $0.00    \n",
              "\n",
              "   minimum_nights  maximum_nights  number_of_reviews  review_scores_rating  \\\n",
              "0               3            1125                  1                 100.0   \n",
              "1               1              90                156                  93.0   \n",
              "2              10              23                236                  94.0   \n",
              "3               3             365                  6                  96.0   \n",
              "4               3             365                  1                 100.0   \n",
              "\n",
              "  instant_bookable          cancellation_policy require_guest_profile_picture  \\\n",
              "0                t  strict_14_with_grace_period                             f   \n",
              "1                t  strict_14_with_grace_period                             f   \n",
              "2                f                     moderate                             f   \n",
              "3                f  strict_14_with_grace_period                             f   \n",
              "4                f                     moderate                             f   \n",
              "\n",
              "  require_guest_phone_verification  reviews_per_month  \n",
              "0                                f               0.86  \n",
              "1                                f               1.33  \n",
              "2                                f               2.47  \n",
              "3                                f               0.06  \n",
              "4                                f               0.01  "
            ]
          },
          "metadata": {
            "tags": []
          },
          "execution_count": 6
        }
      ]
    },
    {
      "cell_type": "code",
      "metadata": {
        "id": "T1CRAiKWRrc8",
        "colab_type": "code",
        "colab": {}
      },
      "source": [
        "listing_model = listing[['listing_id', 'host_is_superhost','neighbourhood_cleansed', 'property_type', 'room_type', 'accommodates', 'bathrooms', 'bedrooms', 'beds','bed_type', 'instant_bookable', 'cancellation_policy']]"
      ],
      "execution_count": 0,
      "outputs": []
    },
    {
      "cell_type": "code",
      "metadata": {
        "id": "gW3Q4a_QT2pR",
        "colab_type": "code",
        "colab": {}
      },
      "source": [
        "# inner join listing and calendar table\n",
        "join = pd.merge(listing_model,\n",
        "                calendar,\n",
        "                 on='listing_id')"
      ],
      "execution_count": 0,
      "outputs": []
    },
    {
      "cell_type": "code",
      "metadata": {
        "id": "P0kHQJEtOnpr",
        "colab_type": "code",
        "colab": {}
      },
      "source": [
        ""
      ],
      "execution_count": 0,
      "outputs": []
    },
    {
      "cell_type": "code",
      "metadata": {
        "id": "m6bS4bnfVWuc",
        "colab_type": "code",
        "colab": {}
      },
      "source": [
        "join['date'] = pd.to_datetime(join['date'])"
      ],
      "execution_count": 0,
      "outputs": []
    },
    {
      "cell_type": "code",
      "metadata": {
        "id": "CovtpDmEW29i",
        "colab_type": "code",
        "colab": {}
      },
      "source": [
        "# create a weekday feature\n",
        "join['weekday'] = [x.weekday() for x in join['date']]\n"
      ],
      "execution_count": 0,
      "outputs": []
    },
    {
      "cell_type": "code",
      "metadata": {
        "id": "cxUyi1V4eFa6",
        "colab_type": "code",
        "colab": {}
      },
      "source": [
        "# convert the weekday feature to boolean\n",
        " join['weekday'] = [0 if x in [5, 6] else 1 for x in join['weekday']]"
      ],
      "execution_count": 0,
      "outputs": []
    },
    {
      "cell_type": "code",
      "metadata": {
        "id": "6aBKEC1xToAw",
        "colab_type": "code",
        "outputId": "08eddab0-73a5-4db7-f430-820310f26582",
        "colab": {
          "base_uri": "https://localhost:8080/",
          "height": 309
        }
      },
      "source": [
        "join.head()"
      ],
      "execution_count": 0,
      "outputs": [
        {
          "output_type": "execute_result",
          "data": {
            "text/html": [
              "<div>\n",
              "<style scoped>\n",
              "    .dataframe tbody tr th:only-of-type {\n",
              "        vertical-align: middle;\n",
              "    }\n",
              "\n",
              "    .dataframe tbody tr th {\n",
              "        vertical-align: top;\n",
              "    }\n",
              "\n",
              "    .dataframe thead th {\n",
              "        text-align: right;\n",
              "    }\n",
              "</style>\n",
              "<table border=\"1\" class=\"dataframe\">\n",
              "  <thead>\n",
              "    <tr style=\"text-align: right;\">\n",
              "      <th></th>\n",
              "      <th>listing_id</th>\n",
              "      <th>host_is_superhost</th>\n",
              "      <th>neighbourhood_cleansed</th>\n",
              "      <th>property_type</th>\n",
              "      <th>room_type</th>\n",
              "      <th>accommodates</th>\n",
              "      <th>bathrooms</th>\n",
              "      <th>bedrooms</th>\n",
              "      <th>beds</th>\n",
              "      <th>bed_type</th>\n",
              "      <th>instant_bookable</th>\n",
              "      <th>cancellation_policy</th>\n",
              "      <th>date</th>\n",
              "      <th>available</th>\n",
              "      <th>price</th>\n",
              "      <th>weekday</th>\n",
              "    </tr>\n",
              "  </thead>\n",
              "  <tbody>\n",
              "    <tr>\n",
              "      <th>0</th>\n",
              "      <td>26567</td>\n",
              "      <td>f</td>\n",
              "      <td>Batignolles-Monceau</td>\n",
              "      <td>Apartment</td>\n",
              "      <td>Entire home/apt</td>\n",
              "      <td>2</td>\n",
              "      <td>1.0</td>\n",
              "      <td>2.0</td>\n",
              "      <td>2.0</td>\n",
              "      <td>Real Bed</td>\n",
              "      <td>f</td>\n",
              "      <td>strict_14_with_grace_period</td>\n",
              "      <td>2018-02-11</td>\n",
              "      <td>t</td>\n",
              "      <td>$49.00</td>\n",
              "      <td>0</td>\n",
              "    </tr>\n",
              "    <tr>\n",
              "      <th>1</th>\n",
              "      <td>26567</td>\n",
              "      <td>f</td>\n",
              "      <td>Batignolles-Monceau</td>\n",
              "      <td>Apartment</td>\n",
              "      <td>Entire home/apt</td>\n",
              "      <td>2</td>\n",
              "      <td>1.0</td>\n",
              "      <td>2.0</td>\n",
              "      <td>2.0</td>\n",
              "      <td>Real Bed</td>\n",
              "      <td>f</td>\n",
              "      <td>strict_14_with_grace_period</td>\n",
              "      <td>2018-06-17</td>\n",
              "      <td>t</td>\n",
              "      <td>$49.00</td>\n",
              "      <td>0</td>\n",
              "    </tr>\n",
              "    <tr>\n",
              "      <th>2</th>\n",
              "      <td>26567</td>\n",
              "      <td>f</td>\n",
              "      <td>Batignolles-Monceau</td>\n",
              "      <td>Apartment</td>\n",
              "      <td>Entire home/apt</td>\n",
              "      <td>2</td>\n",
              "      <td>1.0</td>\n",
              "      <td>2.0</td>\n",
              "      <td>2.0</td>\n",
              "      <td>Real Bed</td>\n",
              "      <td>f</td>\n",
              "      <td>strict_14_with_grace_period</td>\n",
              "      <td>2018-06-18</td>\n",
              "      <td>t</td>\n",
              "      <td>$49.00</td>\n",
              "      <td>1</td>\n",
              "    </tr>\n",
              "    <tr>\n",
              "      <th>3</th>\n",
              "      <td>26567</td>\n",
              "      <td>f</td>\n",
              "      <td>Batignolles-Monceau</td>\n",
              "      <td>Apartment</td>\n",
              "      <td>Entire home/apt</td>\n",
              "      <td>2</td>\n",
              "      <td>1.0</td>\n",
              "      <td>2.0</td>\n",
              "      <td>2.0</td>\n",
              "      <td>Real Bed</td>\n",
              "      <td>f</td>\n",
              "      <td>strict_14_with_grace_period</td>\n",
              "      <td>2018-06-19</td>\n",
              "      <td>t</td>\n",
              "      <td>$49.00</td>\n",
              "      <td>1</td>\n",
              "    </tr>\n",
              "    <tr>\n",
              "      <th>4</th>\n",
              "      <td>26567</td>\n",
              "      <td>f</td>\n",
              "      <td>Batignolles-Monceau</td>\n",
              "      <td>Apartment</td>\n",
              "      <td>Entire home/apt</td>\n",
              "      <td>2</td>\n",
              "      <td>1.0</td>\n",
              "      <td>2.0</td>\n",
              "      <td>2.0</td>\n",
              "      <td>Real Bed</td>\n",
              "      <td>f</td>\n",
              "      <td>strict_14_with_grace_period</td>\n",
              "      <td>2018-06-20</td>\n",
              "      <td>t</td>\n",
              "      <td>$49.00</td>\n",
              "      <td>1</td>\n",
              "    </tr>\n",
              "  </tbody>\n",
              "</table>\n",
              "</div>"
            ],
            "text/plain": [
              "   listing_id host_is_superhost neighbourhood_cleansed property_type  \\\n",
              "0       26567                 f    Batignolles-Monceau     Apartment   \n",
              "1       26567                 f    Batignolles-Monceau     Apartment   \n",
              "2       26567                 f    Batignolles-Monceau     Apartment   \n",
              "3       26567                 f    Batignolles-Monceau     Apartment   \n",
              "4       26567                 f    Batignolles-Monceau     Apartment   \n",
              "\n",
              "         room_type  accommodates  bathrooms  bedrooms  beds  bed_type  \\\n",
              "0  Entire home/apt             2        1.0       2.0   2.0  Real Bed   \n",
              "1  Entire home/apt             2        1.0       2.0   2.0  Real Bed   \n",
              "2  Entire home/apt             2        1.0       2.0   2.0  Real Bed   \n",
              "3  Entire home/apt             2        1.0       2.0   2.0  Real Bed   \n",
              "4  Entire home/apt             2        1.0       2.0   2.0  Real Bed   \n",
              "\n",
              "  instant_bookable          cancellation_policy       date available    price  \\\n",
              "0                f  strict_14_with_grace_period 2018-02-11         t  $49.00    \n",
              "1                f  strict_14_with_grace_period 2018-06-17         t  $49.00    \n",
              "2                f  strict_14_with_grace_period 2018-06-18         t  $49.00    \n",
              "3                f  strict_14_with_grace_period 2018-06-19         t  $49.00    \n",
              "4                f  strict_14_with_grace_period 2018-06-20         t  $49.00    \n",
              "\n",
              "   weekday  \n",
              "0        0  \n",
              "1        0  \n",
              "2        1  \n",
              "3        1  \n",
              "4        1  "
            ]
          },
          "metadata": {
            "tags": []
          },
          "execution_count": 12
        }
      ]
    },
    {
      "cell_type": "code",
      "metadata": {
        "id": "I5K4okh3UP3I",
        "colab_type": "code",
        "outputId": "b04ca4aa-f513-4a94-f21d-1172229e7d5a",
        "colab": {
          "base_uri": "https://localhost:8080/",
          "height": 669
        }
      },
      "source": [
        "day = join[['listing_id','price','weekday']]\n",
        "day.head(20)"
      ],
      "execution_count": 0,
      "outputs": [
        {
          "output_type": "execute_result",
          "data": {
            "text/html": [
              "<div>\n",
              "<style scoped>\n",
              "    .dataframe tbody tr th:only-of-type {\n",
              "        vertical-align: middle;\n",
              "    }\n",
              "\n",
              "    .dataframe tbody tr th {\n",
              "        vertical-align: top;\n",
              "    }\n",
              "\n",
              "    .dataframe thead th {\n",
              "        text-align: right;\n",
              "    }\n",
              "</style>\n",
              "<table border=\"1\" class=\"dataframe\">\n",
              "  <thead>\n",
              "    <tr style=\"text-align: right;\">\n",
              "      <th></th>\n",
              "      <th>listing_id</th>\n",
              "      <th>price</th>\n",
              "      <th>weekday</th>\n",
              "    </tr>\n",
              "  </thead>\n",
              "  <tbody>\n",
              "    <tr>\n",
              "      <th>0</th>\n",
              "      <td>26567</td>\n",
              "      <td>$49.00</td>\n",
              "      <td>0</td>\n",
              "    </tr>\n",
              "    <tr>\n",
              "      <th>1</th>\n",
              "      <td>26567</td>\n",
              "      <td>$49.00</td>\n",
              "      <td>0</td>\n",
              "    </tr>\n",
              "    <tr>\n",
              "      <th>2</th>\n",
              "      <td>26567</td>\n",
              "      <td>$49.00</td>\n",
              "      <td>1</td>\n",
              "    </tr>\n",
              "    <tr>\n",
              "      <th>3</th>\n",
              "      <td>26567</td>\n",
              "      <td>$49.00</td>\n",
              "      <td>1</td>\n",
              "    </tr>\n",
              "    <tr>\n",
              "      <th>4</th>\n",
              "      <td>26567</td>\n",
              "      <td>$49.00</td>\n",
              "      <td>1</td>\n",
              "    </tr>\n",
              "    <tr>\n",
              "      <th>5</th>\n",
              "      <td>26567</td>\n",
              "      <td>$49.00</td>\n",
              "      <td>1</td>\n",
              "    </tr>\n",
              "    <tr>\n",
              "      <th>6</th>\n",
              "      <td>26567</td>\n",
              "      <td>$49.00</td>\n",
              "      <td>0</td>\n",
              "    </tr>\n",
              "    <tr>\n",
              "      <th>7</th>\n",
              "      <td>26567</td>\n",
              "      <td>$49.00</td>\n",
              "      <td>1</td>\n",
              "    </tr>\n",
              "    <tr>\n",
              "      <th>8</th>\n",
              "      <td>26567</td>\n",
              "      <td>$49.00</td>\n",
              "      <td>1</td>\n",
              "    </tr>\n",
              "    <tr>\n",
              "      <th>9</th>\n",
              "      <td>26567</td>\n",
              "      <td>$49.00</td>\n",
              "      <td>1</td>\n",
              "    </tr>\n",
              "    <tr>\n",
              "      <th>10</th>\n",
              "      <td>26567</td>\n",
              "      <td>$49.00</td>\n",
              "      <td>1</td>\n",
              "    </tr>\n",
              "    <tr>\n",
              "      <th>11</th>\n",
              "      <td>26567</td>\n",
              "      <td>$49.00</td>\n",
              "      <td>0</td>\n",
              "    </tr>\n",
              "    <tr>\n",
              "      <th>12</th>\n",
              "      <td>26567</td>\n",
              "      <td>$49.00</td>\n",
              "      <td>1</td>\n",
              "    </tr>\n",
              "    <tr>\n",
              "      <th>13</th>\n",
              "      <td>26567</td>\n",
              "      <td>$49.00</td>\n",
              "      <td>1</td>\n",
              "    </tr>\n",
              "    <tr>\n",
              "      <th>14</th>\n",
              "      <td>26567</td>\n",
              "      <td>$49.00</td>\n",
              "      <td>1</td>\n",
              "    </tr>\n",
              "    <tr>\n",
              "      <th>15</th>\n",
              "      <td>26567</td>\n",
              "      <td>$49.00</td>\n",
              "      <td>1</td>\n",
              "    </tr>\n",
              "    <tr>\n",
              "      <th>16</th>\n",
              "      <td>26567</td>\n",
              "      <td>$49.00</td>\n",
              "      <td>0</td>\n",
              "    </tr>\n",
              "    <tr>\n",
              "      <th>17</th>\n",
              "      <td>26567</td>\n",
              "      <td>$49.00</td>\n",
              "      <td>1</td>\n",
              "    </tr>\n",
              "    <tr>\n",
              "      <th>18</th>\n",
              "      <td>26567</td>\n",
              "      <td>$49.00</td>\n",
              "      <td>1</td>\n",
              "    </tr>\n",
              "    <tr>\n",
              "      <th>19</th>\n",
              "      <td>26567</td>\n",
              "      <td>$49.00</td>\n",
              "      <td>1</td>\n",
              "    </tr>\n",
              "  </tbody>\n",
              "</table>\n",
              "</div>"
            ],
            "text/plain": [
              "    listing_id    price  weekday\n",
              "0        26567  $49.00         0\n",
              "1        26567  $49.00         0\n",
              "2        26567  $49.00         1\n",
              "3        26567  $49.00         1\n",
              "4        26567  $49.00         1\n",
              "5        26567  $49.00         1\n",
              "6        26567  $49.00         0\n",
              "7        26567  $49.00         1\n",
              "8        26567  $49.00         1\n",
              "9        26567  $49.00         1\n",
              "10       26567  $49.00         1\n",
              "11       26567  $49.00         0\n",
              "12       26567  $49.00         1\n",
              "13       26567  $49.00         1\n",
              "14       26567  $49.00         1\n",
              "15       26567  $49.00         1\n",
              "16       26567  $49.00         0\n",
              "17       26567  $49.00         1\n",
              "18       26567  $49.00         1\n",
              "19       26567  $49.00         1"
            ]
          },
          "metadata": {
            "tags": []
          },
          "execution_count": 15
        }
      ]
    },
    {
      "cell_type": "code",
      "metadata": {
        "id": "ATWsoitSfupi",
        "colab_type": "code",
        "outputId": "4f03375f-6c51-40e6-a5a5-b1bcd3ee9b36",
        "colab": {
          "base_uri": "https://localhost:8080/",
          "height": 324
        }
      },
      "source": [
        "day1 = day.groupby['listing_id','weekday')\n",
        "day1.head(20)"
      ],
      "execution_count": 0,
      "outputs": [
        {
          "output_type": "error",
          "ename": "ValueError",
          "evalue": "ignored",
          "traceback": [
            "\u001b[0;31m---------------------------------------------------------------------------\u001b[0m",
            "\u001b[0;31mValueError\u001b[0m                                Traceback (most recent call last)",
            "\u001b[0;32m<ipython-input-17-b7bdd5724302>\u001b[0m in \u001b[0;36m<module>\u001b[0;34m()\u001b[0m\n\u001b[0;32m----> 1\u001b[0;31m \u001b[0mday1\u001b[0m \u001b[0;34m=\u001b[0m \u001b[0mday\u001b[0m\u001b[0;34m.\u001b[0m\u001b[0mgroupby\u001b[0m\u001b[0;34m(\u001b[0m\u001b[0;34m'listing_id'\u001b[0m\u001b[0;34m,\u001b[0m\u001b[0;34m'weekday'\u001b[0m\u001b[0;34m)\u001b[0m\u001b[0;34m\u001b[0m\u001b[0;34m\u001b[0m\u001b[0m\n\u001b[0m\u001b[1;32m      2\u001b[0m \u001b[0mday1\u001b[0m\u001b[0;34m.\u001b[0m\u001b[0mhead\u001b[0m\u001b[0;34m(\u001b[0m\u001b[0;36m20\u001b[0m\u001b[0;34m)\u001b[0m\u001b[0;34m\u001b[0m\u001b[0;34m\u001b[0m\u001b[0m\n",
            "\u001b[0;32m/usr/local/lib/python3.6/dist-packages/pandas/core/generic.py\u001b[0m in \u001b[0;36mgroupby\u001b[0;34m(self, by, axis, level, as_index, sort, group_keys, squeeze, observed, **kwargs)\u001b[0m\n\u001b[1;32m   7627\u001b[0m         \u001b[0;32mif\u001b[0m \u001b[0mlevel\u001b[0m \u001b[0;32mis\u001b[0m \u001b[0;32mNone\u001b[0m \u001b[0;32mand\u001b[0m \u001b[0mby\u001b[0m \u001b[0;32mis\u001b[0m \u001b[0;32mNone\u001b[0m\u001b[0;34m:\u001b[0m\u001b[0;34m\u001b[0m\u001b[0;34m\u001b[0m\u001b[0m\n\u001b[1;32m   7628\u001b[0m             \u001b[0;32mraise\u001b[0m \u001b[0mTypeError\u001b[0m\u001b[0;34m(\u001b[0m\u001b[0;34m\"You have to supply one of 'by' and 'level'\"\u001b[0m\u001b[0;34m)\u001b[0m\u001b[0;34m\u001b[0m\u001b[0;34m\u001b[0m\u001b[0m\n\u001b[0;32m-> 7629\u001b[0;31m         \u001b[0maxis\u001b[0m \u001b[0;34m=\u001b[0m \u001b[0mself\u001b[0m\u001b[0;34m.\u001b[0m\u001b[0m_get_axis_number\u001b[0m\u001b[0;34m(\u001b[0m\u001b[0maxis\u001b[0m\u001b[0;34m)\u001b[0m\u001b[0;34m\u001b[0m\u001b[0;34m\u001b[0m\u001b[0m\n\u001b[0m\u001b[1;32m   7630\u001b[0m         return groupby(self, by=by, axis=axis, level=level, as_index=as_index,\n\u001b[1;32m   7631\u001b[0m                        \u001b[0msort\u001b[0m\u001b[0;34m=\u001b[0m\u001b[0msort\u001b[0m\u001b[0;34m,\u001b[0m \u001b[0mgroup_keys\u001b[0m\u001b[0;34m=\u001b[0m\u001b[0mgroup_keys\u001b[0m\u001b[0;34m,\u001b[0m \u001b[0msqueeze\u001b[0m\u001b[0;34m=\u001b[0m\u001b[0msqueeze\u001b[0m\u001b[0;34m,\u001b[0m\u001b[0;34m\u001b[0m\u001b[0;34m\u001b[0m\u001b[0m\n",
            "\u001b[0;32m/usr/local/lib/python3.6/dist-packages/pandas/core/generic.py\u001b[0m in \u001b[0;36m_get_axis_number\u001b[0;34m(cls, axis)\u001b[0m\n\u001b[1;32m    359\u001b[0m                 \u001b[0;32mpass\u001b[0m\u001b[0;34m\u001b[0m\u001b[0;34m\u001b[0m\u001b[0m\n\u001b[1;32m    360\u001b[0m         raise ValueError('No axis named {0} for object type {1}'\n\u001b[0;32m--> 361\u001b[0;31m                          .format(axis, type(cls)))\n\u001b[0m\u001b[1;32m    362\u001b[0m \u001b[0;34m\u001b[0m\u001b[0m\n\u001b[1;32m    363\u001b[0m     \u001b[0;34m@\u001b[0m\u001b[0mclassmethod\u001b[0m\u001b[0;34m\u001b[0m\u001b[0;34m\u001b[0m\u001b[0m\n",
            "\u001b[0;31mValueError\u001b[0m: No axis named weekday for object type <class 'type'>"
          ]
        }
      ]
    },
    {
      "cell_type": "code",
      "metadata": {
        "id": "jMk3Gl_DZd37",
        "colab_type": "code",
        "colab": {}
      },
      "source": [
        "join.dropna(inplace = True)"
      ],
      "execution_count": 0,
      "outputs": []
    },
    {
      "cell_type": "code",
      "metadata": {
        "id": "x9NWz5yrpGAn",
        "colab_type": "code",
        "outputId": "f42531ff-c735-405c-bafe-9fd8f44b194d",
        "colab": {
          "base_uri": "https://localhost:8080/",
          "height": 34
        }
      },
      "source": [
        "join.shape"
      ],
      "execution_count": 0,
      "outputs": [
        {
          "output_type": "execute_result",
          "data": {
            "text/plain": [
              "(140334, 16)"
            ]
          },
          "metadata": {
            "tags": []
          },
          "execution_count": 13
        }
      ]
    },
    {
      "cell_type": "code",
      "metadata": {
        "id": "oybtGc43f3rr",
        "colab_type": "code",
        "colab": {}
      },
      "source": [
        "\n",
        "join['price'] = [float(i[1:]) if ',' not in i else float(''.join(i[1:].split(','))) for i in join['price']]"
      ],
      "execution_count": 0,
      "outputs": []
    },
    {
      "cell_type": "code",
      "metadata": {
        "id": "97SezxLxoGHA",
        "colab_type": "code",
        "outputId": "46f365c6-f2e8-4361-fa24-282760bcc30d",
        "colab": {
          "base_uri": "https://localhost:8080/",
          "height": 374
        }
      },
      "source": [
        "join.info()"
      ],
      "execution_count": 0,
      "outputs": [
        {
          "output_type": "stream",
          "text": [
            "<class 'pandas.core.frame.DataFrame'>\n",
            "Int64Index: 140334 entries, 0 to 140333\n",
            "Data columns (total 16 columns):\n",
            "listing_id                140334 non-null int64\n",
            "host_is_superhost         140334 non-null object\n",
            "neighbourhood_cleansed    140334 non-null object\n",
            "property_type             140334 non-null object\n",
            "room_type                 140334 non-null object\n",
            "accommodates              140334 non-null int64\n",
            "bathrooms                 140334 non-null float64\n",
            "bedrooms                  140334 non-null float64\n",
            "beds                      140334 non-null float64\n",
            "bed_type                  140334 non-null object\n",
            "instant_bookable          140334 non-null object\n",
            "cancellation_policy       140334 non-null object\n",
            "date                      140334 non-null datetime64[ns]\n",
            "available                 140334 non-null object\n",
            "price                     140334 non-null float64\n",
            "weekday                   140334 non-null int64\n",
            "dtypes: datetime64[ns](1), float64(4), int64(3), object(8)\n",
            "memory usage: 18.2+ MB\n"
          ],
          "name": "stdout"
        }
      ]
    },
    {
      "cell_type": "code",
      "metadata": {
        "id": "Q5KPKueNc5tU",
        "colab_type": "code",
        "colab": {}
      },
      "source": [
        "X = join[['host_is_superhost', 'neighbourhood_cleansed','property_type', 'room_type','accommodates', 'bathrooms', 'bedrooms', 'beds', 'bed_type','instant_bookable', 'cancellation_policy', 'weekday'  ]]"
      ],
      "execution_count": 0,
      "outputs": []
    },
    {
      "cell_type": "code",
      "metadata": {
        "id": "qH_Gr9hfdhJh",
        "colab_type": "code",
        "colab": {}
      },
      "source": [
        "y = join[['price']]"
      ],
      "execution_count": 0,
      "outputs": []
    },
    {
      "cell_type": "code",
      "metadata": {
        "id": "U0To61_webV2",
        "colab_type": "code",
        "colab": {}
      },
      "source": [
        "X = pd.get_dummies(X, drop_first = True)"
      ],
      "execution_count": 0,
      "outputs": []
    },
    {
      "cell_type": "code",
      "metadata": {
        "id": "m8e47Ne5pVBO",
        "colab_type": "code",
        "colab": {}
      },
      "source": [
        "X_train, X_test, y_train, y_test = train_test_split(X, y, test_size=0.2, random_state=42)"
      ],
      "execution_count": 0,
      "outputs": []
    },
    {
      "cell_type": "code",
      "metadata": {
        "id": "MCzlhGIHpsPl",
        "colab_type": "code",
        "outputId": "2562709f-8662-403b-bc62-b94acc9404e8",
        "colab": {
          "base_uri": "https://localhost:8080/",
          "height": 122
        }
      },
      "source": [
        "RF = RandomForestRegressor()\n",
        "RF.fit(X_train, y_train)\n",
        "RF.predict(X_test)\n",
        "RF.score(X_test, y_test)"
      ],
      "execution_count": 0,
      "outputs": [
        {
          "output_type": "stream",
          "text": [
            "/usr/local/lib/python3.6/dist-packages/sklearn/ensemble/forest.py:246: FutureWarning: The default value of n_estimators will change from 10 in version 0.20 to 100 in 0.22.\n",
            "  \"10 in version 0.20 to 100 in 0.22.\", FutureWarning)\n",
            "/usr/local/lib/python3.6/dist-packages/ipykernel_launcher.py:2: DataConversionWarning: A column-vector y was passed when a 1d array was expected. Please change the shape of y to (n_samples,), for example using ravel().\n",
            "  \n"
          ],
          "name": "stderr"
        },
        {
          "output_type": "execute_result",
          "data": {
            "text/plain": [
              "0.8459871783080921"
            ]
          },
          "metadata": {
            "tags": []
          },
          "execution_count": 20
        }
      ]
    },
    {
      "cell_type": "code",
      "metadata": {
        "id": "kozpRGKR7QYd",
        "colab_type": "code",
        "colab": {}
      },
      "source": [
        "importances = RF.feature_importances_"
      ],
      "execution_count": 0,
      "outputs": []
    },
    {
      "cell_type": "code",
      "metadata": {
        "id": "TjENQIw54hJ5",
        "colab_type": "code",
        "colab": {}
      },
      "source": [
        "indices = np.argsort(importances)[::-1]\n",
        "columns = X_train.columns.values[indices]\n",
        "values = importances[indices]\n",
        "\n",
        "dict = {}\n",
        "for i in range(len(columns)):\n",
        "  dict[columns[i]] = values[i]\n",
        "\n",
        "property_type = 0\n",
        "host_is_superhost = 0\n",
        "bed_type = 0\n",
        "room_type = 0\n",
        "cancellation_policy = 0\n",
        "\n",
        "for i in dict:\n",
        "  if 'property_type' in i:\n",
        "    property_type += dict[i]\n",
        "  elif 'host_is_superhost' in i:\n",
        "    host_is_superhost += dict[i]\n",
        "  elif 'bed_type' in i:\n",
        "    bed_type += dict[i]\n",
        "  elif 'room_type' in i:\n",
        "    room_type += dict[i]\n",
        "  elif 'cancellation_policy' in i:\n",
        "    cancellation_policy += dict[i]\n",
        "\n",
        "    \n",
        "dict['property_type'] = property_type\n",
        "dict['host_is_superhost'] = host_is_superhost\n",
        "dict['bed_type'] = bed_type\n",
        "dict['room_type'] = room_type\n",
        "dict['cancellation_policy'] = cancellation_policy\n",
        "new_columns = ['bathrooms', 'accommodates', 'beds','bedrooms','weekday','instant_bookable_t']\n",
        "new_values = [dict['bathrooms'], dict['accommodates'], dict['beds'],dict['bedrooms'],dict['weekday'],dict['instant_bookable_t']]\n",
        "\n",
        "\n",
        "new_columns = new_columns + ['property_type','host_is_superhost','bed_type','room_type','cancellation_policy']\n",
        "new_values = new_values + [dict['property_type'],dict['host_is_superhost'],dict['bed_type'],dict['room_type'],dict['cancellation_policy']]\n"
      ],
      "execution_count": 0,
      "outputs": []
    },
    {
      "cell_type": "code",
      "metadata": {
        "id": "j_nTBqfJ6Xc8",
        "colab_type": "code",
        "outputId": "074a6e95-fba9-4956-f88c-8b4ae32af848",
        "colab": {
          "base_uri": "https://localhost:8080/",
          "height": 54
        }
      },
      "source": [
        "\n",
        "new_columns = ['bathrooms', 'accommodates', 'beds','bedrooms','weekday','instant_bookable_t']\n",
        "new_values = [dict['bathrooms'], dict['accommodates'], dict['beds'],dict['bedrooms'],dict['weekday'],dict['instant_bookable_t']]\n",
        "\n",
        "\n",
        "new_columns = new_columns + ['property_type','host_is_superhost','bed_type','room_type','cancellation_policy']\n",
        "new_values = new_values + [dict['property_type'],dict['host_is_superhost'],dict['bed_type'],dict['room_type'],dict['cancellation_policy']]\n",
        "new_dict = {}\n",
        "for i in range(len(new_columns)):\n",
        "  new_dict[new_columns[i]] = new_values[i]\n",
        "\n",
        "new_dict = sorted(new_dict.items(),key = lambda k:k[1],reverse=True)\n",
        "print(new_dict)\n",
        "#print(new_values)"
      ],
      "execution_count": 0,
      "outputs": [
        {
          "output_type": "stream",
          "text": [
            "[('bathrooms', 0.3268446568970319), ('cancellation_policy', 0.16344819604973707), ('accommodates', 0.14077160109659145), ('property_type', 0.14043383029524323), ('beds', 0.11487809339269861), ('bedrooms', 0.05694815816501651), ('instant_bookable_t', 0.03579332782177761), ('host_is_superhost', 0.013347099805138238), ('room_type', 0.005345629296021211), ('bed_type', 0.001416108335680601), ('weekday', 0.0007732988450634378)]\n"
          ],
          "name": "stdout"
        }
      ]
    },
    {
      "cell_type": "code",
      "metadata": {
        "id": "HWQ2ob6QCJ7K",
        "colab_type": "code",
        "outputId": "a2a41cb1-0a53-42ef-eb1d-a3d6d16ba957",
        "colab": {
          "base_uri": "https://localhost:8080/",
          "height": 111
        }
      },
      "source": [
        "new_df = pd.DataFrame()\n",
        "a,b = [],[]\n",
        "for i in new_dict:\n",
        "  a.append(i[0])\n",
        "  b.append(i[1])\n",
        "new_df['Feature'] = a\n",
        "new_df['Weight'] = b\n",
        "new_df.head(2)"
      ],
      "execution_count": 0,
      "outputs": [
        {
          "output_type": "execute_result",
          "data": {
            "text/html": [
              "<div>\n",
              "<style scoped>\n",
              "    .dataframe tbody tr th:only-of-type {\n",
              "        vertical-align: middle;\n",
              "    }\n",
              "\n",
              "    .dataframe tbody tr th {\n",
              "        vertical-align: top;\n",
              "    }\n",
              "\n",
              "    .dataframe thead th {\n",
              "        text-align: right;\n",
              "    }\n",
              "</style>\n",
              "<table border=\"1\" class=\"dataframe\">\n",
              "  <thead>\n",
              "    <tr style=\"text-align: right;\">\n",
              "      <th></th>\n",
              "      <th>Feature</th>\n",
              "      <th>Weight</th>\n",
              "    </tr>\n",
              "  </thead>\n",
              "  <tbody>\n",
              "    <tr>\n",
              "      <th>0</th>\n",
              "      <td>bathrooms</td>\n",
              "      <td>0.326845</td>\n",
              "    </tr>\n",
              "    <tr>\n",
              "      <th>1</th>\n",
              "      <td>cancellation_policy</td>\n",
              "      <td>0.163448</td>\n",
              "    </tr>\n",
              "  </tbody>\n",
              "</table>\n",
              "</div>"
            ],
            "text/plain": [
              "               Feature    Weight\n",
              "0            bathrooms  0.326845\n",
              "1  cancellation_policy  0.163448"
            ]
          },
          "metadata": {
            "tags": []
          },
          "execution_count": 25
        }
      ]
    },
    {
      "cell_type": "code",
      "metadata": {
        "id": "rf029IhxGEzq",
        "colab_type": "code",
        "outputId": "766c9641-e183-4cb0-c9ec-37b6707ebfdb",
        "colab": {
          "base_uri": "https://localhost:8080/",
          "height": 355
        }
      },
      "source": [
        "import seaborn as sns\n",
        "import matplotlib.pyplot as pl\n",
        "fig = pl.figure(figsize = (20,5))\n",
        "sns.barplot(x='Feature',y='Weight',data=new_df)"
      ],
      "execution_count": 0,
      "outputs": [
        {
          "output_type": "execute_result",
          "data": {
            "text/plain": [
              "<matplotlib.axes._subplots.AxesSubplot at 0x7f3eda311c88>"
            ]
          },
          "metadata": {
            "tags": []
          },
          "execution_count": 27
        },
        {
          "output_type": "display_data",
          "data": {
            "image/png": "[encoded data removed]",
            "text/plain": [
              "<Figure size 1440x360 with 1 Axes>"
            ]
          },
          "metadata": {
            "tags": []
          }
        }
      ]
    },
    {
      "cell_type": "code",
      "metadata": {
        "id": "QZL4uwGE7S8_",
        "colab_type": "code",
        "colab": {}
      },
      "source": [
        "import matplotlib.pyplot as pl\n",
        "\n",
        "def feature_plot(importances, X_train, y_train):\n",
        "    \n",
        "    # Display the five most important features\n",
        "    indices = np.argsort(importances)[::-1]\n",
        "    columns = X_train.columns.values[indices[:10]]\n",
        "    values = importances[indices][:10]\n",
        "\n",
        "    # Creat the plot\n",
        "    fig = pl.figure(figsize = (20,5))\n",
        "    pl.title(\"Normalized Weights for First Five Most Predictive Features\", fontsize = 16)\n",
        "    pl.bar(np.arange(10), values, width = 0.6, align=\"center\", color = '#00A000', \\\n",
        "          label = \"Feature Weight\")\n",
        "    pl.bar(np.arange(10) - 0.3, np.cumsum(values), width = 0.2, align = \"center\", color = '#00A0A0', \\\n",
        "          label = \"Cumulative Feature Weight\")\n",
        "    pl.xticks(np.arange(10), columns)\n",
        "    pl.xlim((-0.5, 10))\n",
        "    pl.ylabel(\"Weight\", fontsize = 12)\n",
        "    pl.xlabel(\"Feature\", fontsize = 12)\n",
        "    \n",
        "    pl.legend(loc = 'upper center')\n",
        "    pl.tight_layout()\n",
        "    pl.show()  "
      ],
      "execution_count": 0,
      "outputs": []
    },
    {
      "cell_type": "code",
      "metadata": {
        "id": "5aJgKrP77VCg",
        "colab_type": "code",
        "outputId": "a5d4a0e6-b016-4820-ae83-2a86f79e6d5e",
        "colab": {
          "base_uri": "https://localhost:8080/",
          "height": 389
        }
      },
      "source": [
        "feature_plot(importances, X_train, y_train)"
      ],
      "execution_count": 0,
      "outputs": [
        {
          "output_type": "display_data",
          "data": {
            "image/png": "[encoded data removed]",
            "text/plain": [
              "<Figure size 1440x360 with 1 Axes>"
            ]
          },
          "metadata": {
            "tags": []
          }
        }
      ]
    },
    {
      "cell_type": "code",
      "metadata": {
        "id": "VK4-GnWd7vPT",
        "colab_type": "code",
        "outputId": "3fb61de0-6a70-4a53-b8f5-563ac7b400d5",
        "colab": {
          "base_uri": "https://localhost:8080/",
          "height": 459
        }
      },
      "source": [
        "print(\"Feature importance ranking by Random Forest Model:\")\n",
        "for k,v in sorted(zip(map(lambda x: round(x, 4), importances), X.columns), reverse=True):\n",
        "    print (v + \": \" + str(k))"
      ],
      "execution_count": 0,
      "outputs": [
        {
          "output_type": "stream",
          "text": [
            "Feature importance ranking by Random Forest Model:\n",
            "bathrooms: 0.3268\n",
            "accommodates: 0.1408\n",
            "beds: 0.1149\n",
            "property_type_Serviced apartment: 0.1038\n",
            "cancellation_policy_strict_14_with_grace_period: 0.0953\n",
            "bedrooms: 0.0569\n",
            "cancellation_policy_moderate: 0.0404\n",
            "instant_bookable_t: 0.0358\n",
            "cancellation_policy_super_strict_60: 0.0278\n",
            "property_type_Boutique hotel: 0.0276\n",
            "host_is_superhost_t: 0.0133\n",
            "property_type_Loft: 0.0042\n",
            "room_type_Private room: 0.0028\n",
            "property_type_Condominium: 0.0026\n",
            "room_type_Shared room: 0.0025\n",
            "property_type_Bed and breakfast: 0.0012\n",
            "property_type_Other: 0.001\n",
            "bed_type_Pull-out Sofa: 0.0009\n",
            "weekday: 0.0008\n",
            "bed_type_Real Bed: 0.0004\n",
            "bed_type_Futon: 0.0001\n",
            "property_type_Townhouse: 0.0\n",
            "property_type_House: 0.0\n",
            "property_type_Guesthouse: 0.0\n",
            "property_type_Guest suite: 0.0\n"
          ],
          "name": "stdout"
        }
      ]
    },
    {
      "cell_type": "code",
      "metadata": {
        "id": "2zwCnTtcMYsN",
        "colab_type": "code",
        "colab": {}
      },
      "source": [
        "# from google.colab import files\n",
        "# join.to_csv('join.csv', index = False)\n",
        "# files.download('join.csv')"
      ],
      "execution_count": 0,
      "outputs": []
    },
    {
      "cell_type": "code",
      "metadata": {
        "id": "sRHk1y6NeB38",
        "colab_type": "code",
        "colab": {}
      },
      "source": [
        "join_corr = join.drop(columns = 'listing_id')"
      ],
      "execution_count": 0,
      "outputs": []
    },
    {
      "cell_type": "code",
      "metadata": {
        "id": "jvCx6XJyfALF",
        "colab_type": "code",
        "colab": {}
      },
      "source": [
        "# calculate the correlation matrix\n",
        "corr = join_corr.corr()\n",
        "\n",
        "# plot the heatmap\n",
        "sns.heatmap(corr, \n",
        "        xticklabels=corr.columns,\n",
        "        yticklabels=corr.columns)"
      ],
      "execution_count": 0,
      "outputs": []
    },
    {
      "cell_type": "code",
      "metadata": {
        "id": "KndmD82EiAc3",
        "colab_type": "code",
        "colab": {}
      },
      "source": [
        "\n",
        "\n",
        "# Generate a mask for the upper triangle\n",
        "mask = np.zeros_like(corr, dtype=np.bool)\n",
        "mask[np.triu_indices_from(mask)] = True\n",
        "\n",
        "# Set up the matplotlib figure\n",
        "f, ax = plt.subplots(figsize=(11, 9))\n",
        "\n",
        "# Generate a custom diverging colormap\n",
        "cmap = sns.diverging_palette(220, 10, as_cmap=True)\n",
        "\n",
        "# Draw the heatmap with the mask and correct aspect ratio\n",
        "sns.heatmap(corr, mask=mask, cmap='viridis', vmax=.8, center=0, square=True, linewidths=.5, cbar_kws={\"shrink\": .5})\n"
      ],
      "execution_count": 0,
      "outputs": []
    },
    {
      "cell_type": "code",
      "metadata": {
        "id": "UAlKxltzjNqi",
        "colab_type": "code",
        "colab": {}
      },
      "source": [
        "cmap = cmap=sns.diverging_palette(5, 250, as_cmap=True)\n",
        "\n",
        "def magnify():\n",
        "    return [dict(selector=\"th\",\n",
        "                 props=[(\"font-size\", \"7pt\")]),\n",
        "            dict(selector=\"td\",\n",
        "                 props=[('padding', \"0em 0em\")]),\n",
        "            dict(selector=\"th:hover\",\n",
        "                 props=[(\"font-size\", \"12pt\")]),\n",
        "            dict(selector=\"tr:hover td:hover\",\n",
        "                 props=[('max-width', '200px'),\n",
        "                        ('font-size', '12pt')])\n",
        "]\n",
        "\n",
        "corr.style.background_gradient(cmap, axis=1)\\\n",
        "    .set_properties(**{'max-width': '80px', 'font-size': '10pt'})\\\n",
        "    .set_caption(\"Correlation Table\")\\\n",
        "    .set_precision(2)\\\n",
        "    .set_table_styles(magnify())"
      ],
      "execution_count": 0,
      "outputs": []
    }
  ]
}