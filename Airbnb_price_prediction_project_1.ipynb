{
  "nbformat": 4,
  "nbformat_minor": 0,
  "metadata": {
    "colab": {
      "name": "Copy of Airbnb_price_prediction_project_1.ipynb",
      "version": "0.3.2",
      "provenance": [],
      "collapsed_sections": [],
      "include_colab_link": true
    },
    "language_info": {
      "codemirror_mode": {
        "name": "ipython",
        "version": 3
      },
      "file_extension": ".py",
      "mimetype": "text/x-python",
      "name": "python",
      "nbconvert_exporter": "python",
      "pygments_lexer": "ipython3",
      "version": "3.6.5"
    },
    "kernelspec": {
      "display_name": "Python 3",
      "language": "python",
      "name": "python3"
    }
  },
  "cells": [
    {
      "cell_type": "markdown",
      "metadata": {
        "id": "view-in-github",
        "colab_type": "text"
      },
      "source": [
        "<a href=\"https://colab.research.google.com/github/shengzhehu/Airbnb-Database-Analysis/blob/master/Airbnb_price_prediction_project_1.ipynb\" target=\"_parent\"><img src=\"https://colab.research.google.com/assets/colab-badge.svg\" alt=\"Open In Colab\"/></a>"
      ]
    },
    {
      "cell_type": "markdown",
      "metadata": {
        "id": "Pn3KgLhWBrj4",
        "colab_type": "text"
      },
      "source": [
        "# Three Questions\n",
        "## 1.What is the top price influencers in the Airbnb dataset?\n",
        "## 2.Does the date affect prices? How?\n",
        "## 3.Which is the most popular amenity that customers like?"
      ]
    },
    {
      "cell_type": "markdown",
      "metadata": {
        "id": "zep6FhSQFWG1",
        "colab_type": "text"
      },
      "source": [
        "## Exploratory data analysis"
      ]
    },
    {
      "cell_type": "code",
      "metadata": {
        "colab_type": "code",
        "id": "XVIrOyktUKSj",
        "colab": {}
      },
      "source": [
        "#1 Code to read csv file into colaboratory:\n",
        "!pip install -U -q PyDrive\n",
        "from pydrive.auth import GoogleAuth\n",
        "from pydrive.drive import GoogleDrive\n",
        "from google.colab import auth\n",
        "from oauth2client.client import GoogleCredentials\n",
        "\n",
        "# 1. Authenticate and create the PyDrive client.\n",
        "auth.authenticate_user()\n",
        "gauth = GoogleAuth()\n",
        "gauth.credentials = GoogleCredentials.get_application_default()\n",
        "drive = GoogleDrive(gauth)"
      ],
      "execution_count": 0,
      "outputs": []
    },
    {
      "cell_type": "code",
      "metadata": {
        "colab_type": "code",
        "id": "YKqW5iQlUQf9",
        "colab": {}
      },
      "source": [
        "import pandas as pd\n",
        "import numpy as np\n",
        "pd.set_option('display.max_columns', 500)\n",
        "import matplotlib.pyplot as plt\n",
        "from sklearn.model_selection import train_test_split\n",
        "from sklearn.ensemble import RandomForestRegressor\n",
        "import seaborn as sns\n",
        "%matplotlib inline"
      ],
      "execution_count": 0,
      "outputs": []
    },
    {
      "cell_type": "code",
      "metadata": {
        "colab_type": "code",
        "id": "k573rTcMUQi4",
        "colab": {}
      },
      "source": [
        "downloaded = drive.CreateFile({'id':'1gLUsWqY5TweRWNDz-VhfOmCID5lKn_1m'}) \n",
        "downloaded.GetContentFile('listing_full_fixed.csv')\n",
        "\n",
        "downloaded = drive.CreateFile({'id':'1zaqcrxX1JdTadPXxfOEFdbzFls_PR2V5'}) \n",
        "downloaded.GetContentFile('calendar-2017.csv')\n"
      ],
      "execution_count": 0,
      "outputs": []
    },
    {
      "cell_type": "code",
      "metadata": {
        "colab_type": "code",
        "id": "9YZsO-XnUQq5",
        "colab": {}
      },
      "source": [
        "listing = pd.read_csv('listing_full_fixed.csv')\n",
        "calendar = pd.read_csv('calendar-2017.csv')"
      ],
      "execution_count": 0,
      "outputs": []
    },
    {
      "cell_type": "code",
      "metadata": {
        "colab_type": "code",
        "id": "be3LEp6_lZYb",
        "outputId": "6e132b14-3b3e-4a74-849b-a53355c3a8ea",
        "colab": {
          "base_uri": "https://localhost:8080/",
          "height": 202
        }
      },
      "source": [
        "calendar.head()"
      ],
      "execution_count": 0,
      "outputs": [
        {
          "output_type": "execute_result",
          "data": {
            "text/html": [
              "<div>\n",
              "<style scoped>\n",
              "    .dataframe tbody tr th:only-of-type {\n",
              "        vertical-align: middle;\n",
              "    }\n",
              "\n",
              "    .dataframe tbody tr th {\n",
              "        vertical-align: top;\n",
              "    }\n",
              "\n",
              "    .dataframe thead th {\n",
              "        text-align: right;\n",
              "    }\n",
              "</style>\n",
              "<table border=\"1\" class=\"dataframe\">\n",
              "  <thead>\n",
              "    <tr style=\"text-align: right;\">\n",
              "      <th></th>\n",
              "      <th>listing_id</th>\n",
              "      <th>date</th>\n",
              "      <th>available</th>\n",
              "      <th>price</th>\n",
              "    </tr>\n",
              "  </thead>\n",
              "  <tbody>\n",
              "    <tr>\n",
              "      <th>0</th>\n",
              "      <td>3109</td>\n",
              "      <td>2018-12-06</td>\n",
              "      <td>t</td>\n",
              "      <td>$52.00</td>\n",
              "    </tr>\n",
              "    <tr>\n",
              "      <th>1</th>\n",
              "      <td>3109</td>\n",
              "      <td>2018-12-05</td>\n",
              "      <td>t</td>\n",
              "      <td>$52.00</td>\n",
              "    </tr>\n",
              "    <tr>\n",
              "      <th>2</th>\n",
              "      <td>3109</td>\n",
              "      <td>2018-12-04</td>\n",
              "      <td>t</td>\n",
              "      <td>$52.00</td>\n",
              "    </tr>\n",
              "    <tr>\n",
              "      <th>3</th>\n",
              "      <td>3109</td>\n",
              "      <td>2018-12-03</td>\n",
              "      <td>t</td>\n",
              "      <td>$52.00</td>\n",
              "    </tr>\n",
              "    <tr>\n",
              "      <th>4</th>\n",
              "      <td>3109</td>\n",
              "      <td>2018-12-02</td>\n",
              "      <td>t</td>\n",
              "      <td>$52.00</td>\n",
              "    </tr>\n",
              "  </tbody>\n",
              "</table>\n",
              "</div>"
            ],
            "text/plain": [
              "   listing_id        date available   price\n",
              "0        3109  2018-12-06         t  $52.00\n",
              "1        3109  2018-12-05         t  $52.00\n",
              "2        3109  2018-12-04         t  $52.00\n",
              "3        3109  2018-12-03         t  $52.00\n",
              "4        3109  2018-12-02         t  $52.00"
            ]
          },
          "metadata": {
            "tags": []
          },
          "execution_count": 8
        }
      ]
    },
    {
      "cell_type": "code",
      "metadata": {
        "id": "HMTu3RzCQvoO",
        "colab_type": "code",
        "outputId": "26f0af03-3b7e-4728-d5fd-ccf016ee9743",
        "colab": {
          "base_uri": "https://localhost:8080/",
          "height": 35
        }
      },
      "source": [
        "calendar.shape"
      ],
      "execution_count": 0,
      "outputs": [
        {
          "output_type": "execute_result",
          "data": {
            "text/plain": [
              "(22745705, 4)"
            ]
          },
          "metadata": {
            "tags": []
          },
          "execution_count": 9
        }
      ]
    },
    {
      "cell_type": "code",
      "metadata": {
        "id": "qVzziiCBjBvp",
        "colab_type": "code",
        "colab": {}
      },
      "source": [
        "calendar.dropna(inplace = True)"
      ],
      "execution_count": 0,
      "outputs": []
    },
    {
      "cell_type": "code",
      "metadata": {
        "id": "l7XQzBN4QkXd",
        "colab_type": "code",
        "outputId": "ea5f1d6b-4dc8-4c68-de5b-d26d3dcb44f1",
        "colab": {
          "base_uri": "https://localhost:8080/",
          "height": 35
        }
      },
      "source": [
        "calendar.shape"
      ],
      "execution_count": 0,
      "outputs": [
        {
          "output_type": "execute_result",
          "data": {
            "text/plain": [
              "(7265328, 4)"
            ]
          },
          "metadata": {
            "tags": []
          },
          "execution_count": 11
        }
      ]
    },
    {
      "cell_type": "code",
      "metadata": {
        "id": "43dS-HO0jBvt",
        "colab_type": "code",
        "outputId": "7dc1e56b-03bf-494d-ac15-597ed1edbd97",
        "colab": {
          "base_uri": "https://localhost:8080/",
          "height": 202
        }
      },
      "source": [
        "calendar.sample(5)"
      ],
      "execution_count": 0,
      "outputs": [
        {
          "output_type": "execute_result",
          "data": {
            "text/html": [
              "<div>\n",
              "<style scoped>\n",
              "    .dataframe tbody tr th:only-of-type {\n",
              "        vertical-align: middle;\n",
              "    }\n",
              "\n",
              "    .dataframe tbody tr th {\n",
              "        vertical-align: top;\n",
              "    }\n",
              "\n",
              "    .dataframe thead th {\n",
              "        text-align: right;\n",
              "    }\n",
              "</style>\n",
              "<table border=\"1\" class=\"dataframe\">\n",
              "  <thead>\n",
              "    <tr style=\"text-align: right;\">\n",
              "      <th></th>\n",
              "      <th>listing_id</th>\n",
              "      <th>date</th>\n",
              "      <th>available</th>\n",
              "      <th>price</th>\n",
              "    </tr>\n",
              "  </thead>\n",
              "  <tbody>\n",
              "    <tr>\n",
              "      <th>21644320</th>\n",
              "      <td>21393403</td>\n",
              "      <td>2018-04-09</td>\n",
              "      <td>t</td>\n",
              "      <td>$90.00</td>\n",
              "    </tr>\n",
              "    <tr>\n",
              "      <th>1385580</th>\n",
              "      <td>1192253</td>\n",
              "      <td>2018-10-27</td>\n",
              "      <td>t</td>\n",
              "      <td>$40.00</td>\n",
              "    </tr>\n",
              "    <tr>\n",
              "      <th>11928970</th>\n",
              "      <td>12806248</td>\n",
              "      <td>2018-06-30</td>\n",
              "      <td>t</td>\n",
              "      <td>$100.00</td>\n",
              "    </tr>\n",
              "    <tr>\n",
              "      <th>20229930</th>\n",
              "      <td>20111523</td>\n",
              "      <td>2018-05-07</td>\n",
              "      <td>t</td>\n",
              "      <td>$90.00</td>\n",
              "    </tr>\n",
              "    <tr>\n",
              "      <th>3905686</th>\n",
              "      <td>3749606</td>\n",
              "      <td>2018-04-11</td>\n",
              "      <td>t</td>\n",
              "      <td>$87.00</td>\n",
              "    </tr>\n",
              "  </tbody>\n",
              "</table>\n",
              "</div>"
            ],
            "text/plain": [
              "          listing_id        date available    price\n",
              "21644320    21393403  2018-04-09         t   $90.00\n",
              "1385580      1192253  2018-10-27         t   $40.00\n",
              "11928970    12806248  2018-06-30         t  $100.00\n",
              "20229930    20111523  2018-05-07         t   $90.00\n",
              "3905686      3749606  2018-04-11         t   $87.00"
            ]
          },
          "metadata": {
            "tags": []
          },
          "execution_count": 6
        }
      ]
    },
    {
      "cell_type": "code",
      "metadata": {
        "colab_type": "code",
        "id": "rWDoaHQplRL8",
        "outputId": "6ecb4ece-3b0a-498f-e4e4-048c9e90c223",
        "colab": {
          "base_uri": "https://localhost:8080/",
          "height": 569
        }
      },
      "source": [
        "listing.head()"
      ],
      "execution_count": 0,
      "outputs": [
        {
          "output_type": "execute_result",
          "data": {
            "text/html": [
              "<div>\n",
              "<style scoped>\n",
              "    .dataframe tbody tr th:only-of-type {\n",
              "        vertical-align: middle;\n",
              "    }\n",
              "\n",
              "    .dataframe tbody tr th {\n",
              "        vertical-align: top;\n",
              "    }\n",
              "\n",
              "    .dataframe thead th {\n",
              "        text-align: right;\n",
              "    }\n",
              "</style>\n",
              "<table border=\"1\" class=\"dataframe\">\n",
              "  <thead>\n",
              "    <tr style=\"text-align: right;\">\n",
              "      <th></th>\n",
              "      <th>listing_id</th>\n",
              "      <th>name</th>\n",
              "      <th>host_id</th>\n",
              "      <th>host_name</th>\n",
              "      <th>host_is_superhost</th>\n",
              "      <th>host_verifications</th>\n",
              "      <th>host_has_profile_pic</th>\n",
              "      <th>host_identity_verified</th>\n",
              "      <th>street</th>\n",
              "      <th>neighbourhood_cleansed</th>\n",
              "      <th>state</th>\n",
              "      <th>latitude</th>\n",
              "      <th>longitude</th>\n",
              "      <th>property_type</th>\n",
              "      <th>room_type</th>\n",
              "      <th>accommodates</th>\n",
              "      <th>bathrooms</th>\n",
              "      <th>bedrooms</th>\n",
              "      <th>beds</th>\n",
              "      <th>bed_type</th>\n",
              "      <th>price</th>\n",
              "      <th>security_deposit</th>\n",
              "      <th>cleaning_fee</th>\n",
              "      <th>guests_included</th>\n",
              "      <th>extra_people</th>\n",
              "      <th>minimum_nights</th>\n",
              "      <th>maximum_nights</th>\n",
              "      <th>number_of_reviews</th>\n",
              "      <th>review_scores_rating</th>\n",
              "      <th>instant_bookable</th>\n",
              "      <th>cancellation_policy</th>\n",
              "      <th>require_guest_profile_picture</th>\n",
              "      <th>require_guest_phone_verification</th>\n",
              "      <th>reviews_per_month</th>\n",
              "    </tr>\n",
              "  </thead>\n",
              "  <tbody>\n",
              "    <tr>\n",
              "      <th>0</th>\n",
              "      <td>2350957</td>\n",
              "      <td>Attractive studio in Paris 18 th</td>\n",
              "      <td>12004066</td>\n",
              "      <td>Marthe</td>\n",
              "      <td>f</td>\n",
              "      <td>['email', 'phone', 'reviews', 'manual_offline'...</td>\n",
              "      <td>t</td>\n",
              "      <td>t</td>\n",
              "      <td>Paris, ÃŽle-de-France, France</td>\n",
              "      <td>Buttes-Montmartre</td>\n",
              "      <td>ÃŽle-de-France</td>\n",
              "      <td>48.889208</td>\n",
              "      <td>2.363208</td>\n",
              "      <td>Apartment</td>\n",
              "      <td>Entire home/apt</td>\n",
              "      <td>2</td>\n",
              "      <td>1.0</td>\n",
              "      <td>0.0</td>\n",
              "      <td>1.0</td>\n",
              "      <td>Couch</td>\n",
              "      <td>$65.00</td>\n",
              "      <td>$130.00</td>\n",
              "      <td>$30.00</td>\n",
              "      <td>2</td>\n",
              "      <td>$10.00</td>\n",
              "      <td>366</td>\n",
              "      <td>366</td>\n",
              "      <td>2</td>\n",
              "      <td>87.0</td>\n",
              "      <td>f</td>\n",
              "      <td>flexible</td>\n",
              "      <td>f</td>\n",
              "      <td>f</td>\n",
              "      <td>0.04</td>\n",
              "    </tr>\n",
              "    <tr>\n",
              "      <th>1</th>\n",
              "      <td>1819895</td>\n",
              "      <td>Loft, balcony + 180Â° horizon view</td>\n",
              "      <td>7539044</td>\n",
              "      <td>Vinciane</td>\n",
              "      <td>t</td>\n",
              "      <td>['email', 'phone', 'reviews', 'manual_offline']</td>\n",
              "      <td>t</td>\n",
              "      <td>t</td>\n",
              "      <td>Paris, ÃŽle-de-France, France</td>\n",
              "      <td>Popincourt</td>\n",
              "      <td>ÃŽle-de-France</td>\n",
              "      <td>48.859113</td>\n",
              "      <td>2.379882</td>\n",
              "      <td>Apartment</td>\n",
              "      <td>Entire home/apt</td>\n",
              "      <td>2</td>\n",
              "      <td>1.0</td>\n",
              "      <td>1.0</td>\n",
              "      <td>1.0</td>\n",
              "      <td>Real Bed</td>\n",
              "      <td>$150.00</td>\n",
              "      <td>$0.00</td>\n",
              "      <td>$60.00</td>\n",
              "      <td>1</td>\n",
              "      <td>$0.00</td>\n",
              "      <td>365</td>\n",
              "      <td>1125</td>\n",
              "      <td>3</td>\n",
              "      <td>100.0</td>\n",
              "      <td>f</td>\n",
              "      <td>strict_14_with_grace_period</td>\n",
              "      <td>f</td>\n",
              "      <td>f</td>\n",
              "      <td>0.06</td>\n",
              "    </tr>\n",
              "    <tr>\n",
              "      <th>2</th>\n",
              "      <td>1206047</td>\n",
              "      <td>Charming apartment in Paris 20</td>\n",
              "      <td>2255607</td>\n",
              "      <td>Baptiste</td>\n",
              "      <td>f</td>\n",
              "      <td>['email', 'phone', 'reviews', 'jumio', 'govern...</td>\n",
              "      <td>t</td>\n",
              "      <td>t</td>\n",
              "      <td>Paris, ÃŽle-de-France, France</td>\n",
              "      <td>MÃ©nilmontant</td>\n",
              "      <td>ÃŽle-de-France</td>\n",
              "      <td>48.867448</td>\n",
              "      <td>2.388532</td>\n",
              "      <td>Apartment</td>\n",
              "      <td>Entire home/apt</td>\n",
              "      <td>1</td>\n",
              "      <td>1.0</td>\n",
              "      <td>1.0</td>\n",
              "      <td>3.0</td>\n",
              "      <td>Real Bed</td>\n",
              "      <td>$1,000.00</td>\n",
              "      <td>$0.00</td>\n",
              "      <td>$300.00</td>\n",
              "      <td>1</td>\n",
              "      <td>$251.00</td>\n",
              "      <td>365</td>\n",
              "      <td>365</td>\n",
              "      <td>0</td>\n",
              "      <td>NaN</td>\n",
              "      <td>f</td>\n",
              "      <td>moderate</td>\n",
              "      <td>f</td>\n",
              "      <td>f</td>\n",
              "      <td>NaN</td>\n",
              "    </tr>\n",
              "    <tr>\n",
              "      <th>3</th>\n",
              "      <td>10514687</td>\n",
              "      <td>Champs ElysÃ©es/Ternes/Maillot</td>\n",
              "      <td>54211095</td>\n",
              "      <td>Gerald</td>\n",
              "      <td>f</td>\n",
              "      <td>['email', 'phone']</td>\n",
              "      <td>t</td>\n",
              "      <td>f</td>\n",
              "      <td>Paris, ÃŽle-de-France, France</td>\n",
              "      <td>Batignolles-Monceau</td>\n",
              "      <td>ÃŽle-de-France</td>\n",
              "      <td>48.880585</td>\n",
              "      <td>2.292577</td>\n",
              "      <td>Apartment</td>\n",
              "      <td>Entire home/apt</td>\n",
              "      <td>2</td>\n",
              "      <td>0.5</td>\n",
              "      <td>1.0</td>\n",
              "      <td>1.0</td>\n",
              "      <td>Pull-out Sofa</td>\n",
              "      <td>$39.00</td>\n",
              "      <td>$100.00</td>\n",
              "      <td>$15.00</td>\n",
              "      <td>1</td>\n",
              "      <td>$0.00</td>\n",
              "      <td>365</td>\n",
              "      <td>1125</td>\n",
              "      <td>0</td>\n",
              "      <td>NaN</td>\n",
              "      <td>f</td>\n",
              "      <td>strict_14_with_grace_period</td>\n",
              "      <td>f</td>\n",
              "      <td>f</td>\n",
              "      <td>NaN</td>\n",
              "    </tr>\n",
              "    <tr>\n",
              "      <th>4</th>\n",
              "      <td>9005605</td>\n",
              "      <td>Appartement ChÃ¢telet-Les Halles</td>\n",
              "      <td>37457136</td>\n",
              "      <td>JÃ©rÃ´me</td>\n",
              "      <td>f</td>\n",
              "      <td>['email', 'phone', 'reviews', 'jumio', 'govern...</td>\n",
              "      <td>t</td>\n",
              "      <td>t</td>\n",
              "      <td>Paris, ÃŽle-de-France, France</td>\n",
              "      <td>Louvre</td>\n",
              "      <td>ÃŽle-de-France</td>\n",
              "      <td>48.860000</td>\n",
              "      <td>2.347282</td>\n",
              "      <td>Apartment</td>\n",
              "      <td>Entire home/apt</td>\n",
              "      <td>2</td>\n",
              "      <td>1.0</td>\n",
              "      <td>0.0</td>\n",
              "      <td>1.0</td>\n",
              "      <td>Pull-out Sofa</td>\n",
              "      <td>$77.00</td>\n",
              "      <td>$200.00</td>\n",
              "      <td>$15.00</td>\n",
              "      <td>1</td>\n",
              "      <td>$0.00</td>\n",
              "      <td>365</td>\n",
              "      <td>1125</td>\n",
              "      <td>27</td>\n",
              "      <td>96.0</td>\n",
              "      <td>f</td>\n",
              "      <td>flexible</td>\n",
              "      <td>f</td>\n",
              "      <td>f</td>\n",
              "      <td>0.68</td>\n",
              "    </tr>\n",
              "  </tbody>\n",
              "</table>\n",
              "</div>"
            ],
            "text/plain": [
              "   listing_id                                name   host_id host_name  \\\n",
              "0     2350957    Attractive studio in Paris 18 th  12004066    Marthe   \n",
              "1     1819895  Loft, balcony + 180Â° horizon view   7539044  Vinciane   \n",
              "2     1206047      Charming apartment in Paris 20   2255607  Baptiste   \n",
              "3    10514687      Champs ElysÃ©es/Ternes/Maillot  54211095    Gerald   \n",
              "4     9005605    Appartement ChÃ¢telet-Les Halles  37457136  JÃ©rÃ´me   \n",
              "\n",
              "  host_is_superhost                                 host_verifications  \\\n",
              "0                 f  ['email', 'phone', 'reviews', 'manual_offline'...   \n",
              "1                 t    ['email', 'phone', 'reviews', 'manual_offline']   \n",
              "2                 f  ['email', 'phone', 'reviews', 'jumio', 'govern...   \n",
              "3                 f                                 ['email', 'phone']   \n",
              "4                 f  ['email', 'phone', 'reviews', 'jumio', 'govern...   \n",
              "\n",
              "  host_has_profile_pic host_identity_verified                         street  \\\n",
              "0                    t                      t  Paris, ÃŽle-de-France, France   \n",
              "1                    t                      t  Paris, ÃŽle-de-France, France   \n",
              "2                    t                      t  Paris, ÃŽle-de-France, France   \n",
              "3                    t                      f  Paris, ÃŽle-de-France, France   \n",
              "4                    t                      t  Paris, ÃŽle-de-France, France   \n",
              "\n",
              "  neighbourhood_cleansed           state   latitude  longitude property_type  \\\n",
              "0      Buttes-Montmartre  ÃŽle-de-France  48.889208   2.363208     Apartment   \n",
              "1             Popincourt  ÃŽle-de-France  48.859113   2.379882     Apartment   \n",
              "2          MÃ©nilmontant  ÃŽle-de-France  48.867448   2.388532     Apartment   \n",
              "3    Batignolles-Monceau  ÃŽle-de-France  48.880585   2.292577     Apartment   \n",
              "4                 Louvre  ÃŽle-de-France  48.860000   2.347282     Apartment   \n",
              "\n",
              "         room_type  accommodates  bathrooms  bedrooms  beds       bed_type  \\\n",
              "0  Entire home/apt             2        1.0       0.0   1.0          Couch   \n",
              "1  Entire home/apt             2        1.0       1.0   1.0       Real Bed   \n",
              "2  Entire home/apt             1        1.0       1.0   3.0       Real Bed   \n",
              "3  Entire home/apt             2        0.5       1.0   1.0  Pull-out Sofa   \n",
              "4  Entire home/apt             2        1.0       0.0   1.0  Pull-out Sofa   \n",
              "\n",
              "        price security_deposit cleaning_fee  guests_included extra_people  \\\n",
              "0     $65.00          $130.00       $30.00                 2      $10.00    \n",
              "1    $150.00            $0.00       $60.00                 1       $0.00    \n",
              "2  $1,000.00            $0.00      $300.00                 1     $251.00    \n",
              "3     $39.00          $100.00       $15.00                 1       $0.00    \n",
              "4     $77.00          $200.00       $15.00                 1       $0.00    \n",
              "\n",
              "   minimum_nights  maximum_nights  number_of_reviews  review_scores_rating  \\\n",
              "0             366             366                  2                  87.0   \n",
              "1             365            1125                  3                 100.0   \n",
              "2             365             365                  0                   NaN   \n",
              "3             365            1125                  0                   NaN   \n",
              "4             365            1125                 27                  96.0   \n",
              "\n",
              "  instant_bookable          cancellation_policy require_guest_profile_picture  \\\n",
              "0                f                     flexible                             f   \n",
              "1                f  strict_14_with_grace_period                             f   \n",
              "2                f                     moderate                             f   \n",
              "3                f  strict_14_with_grace_period                             f   \n",
              "4                f                     flexible                             f   \n",
              "\n",
              "  require_guest_phone_verification  reviews_per_month  \n",
              "0                                f               0.04  \n",
              "1                                f               0.06  \n",
              "2                                f                NaN  \n",
              "3                                f                NaN  \n",
              "4                                f               0.68  "
            ]
          },
          "metadata": {
            "tags": []
          },
          "execution_count": 254
        }
      ]
    },
    {
      "cell_type": "markdown",
      "metadata": {
        "id": "T_b5ycu0GO_b",
        "colab_type": "text"
      },
      "source": [
        "## Data preprocessing"
      ]
    },
    {
      "cell_type": "code",
      "metadata": {
        "colab_type": "code",
        "id": "T1CRAiKWRrc8",
        "colab": {}
      },
      "source": [
        "listing_model = listing[['listing_id', 'host_is_superhost','neighbourhood_cleansed', 'property_type', 'room_type', 'bathrooms', 'bedrooms', 'beds','bed_type',\"accommodates\",\"cancellation_policy\"]]"
      ],
      "execution_count": 0,
      "outputs": []
    },
    {
      "cell_type": "code",
      "metadata": {
        "colab_type": "code",
        "id": "oqKVmhwGR4e8",
        "outputId": "0f84b4a0-ee12-4989-f6a2-1ebff565a192",
        "colab": {
          "base_uri": "https://localhost:8080/",
          "height": 289
        }
      },
      "source": [
        "listing_model.head()"
      ],
      "execution_count": 0,
      "outputs": [
        {
          "output_type": "execute_result",
          "data": {
            "text/html": [
              "<div>\n",
              "<style scoped>\n",
              "    .dataframe tbody tr th:only-of-type {\n",
              "        vertical-align: middle;\n",
              "    }\n",
              "\n",
              "    .dataframe tbody tr th {\n",
              "        vertical-align: top;\n",
              "    }\n",
              "\n",
              "    .dataframe thead th {\n",
              "        text-align: right;\n",
              "    }\n",
              "</style>\n",
              "<table border=\"1\" class=\"dataframe\">\n",
              "  <thead>\n",
              "    <tr style=\"text-align: right;\">\n",
              "      <th></th>\n",
              "      <th>listing_id</th>\n",
              "      <th>host_is_superhost</th>\n",
              "      <th>neighbourhood_cleansed</th>\n",
              "      <th>property_type</th>\n",
              "      <th>room_type</th>\n",
              "      <th>bathrooms</th>\n",
              "      <th>bedrooms</th>\n",
              "      <th>beds</th>\n",
              "      <th>bed_type</th>\n",
              "      <th>cancellation_policy</th>\n",
              "    </tr>\n",
              "  </thead>\n",
              "  <tbody>\n",
              "    <tr>\n",
              "      <th>0</th>\n",
              "      <td>2350957</td>\n",
              "      <td>f</td>\n",
              "      <td>Buttes-Montmartre</td>\n",
              "      <td>Apartment</td>\n",
              "      <td>Entire home/apt</td>\n",
              "      <td>1.0</td>\n",
              "      <td>0.0</td>\n",
              "      <td>1.0</td>\n",
              "      <td>Couch</td>\n",
              "      <td>flexible</td>\n",
              "    </tr>\n",
              "    <tr>\n",
              "      <th>1</th>\n",
              "      <td>1819895</td>\n",
              "      <td>t</td>\n",
              "      <td>Popincourt</td>\n",
              "      <td>Apartment</td>\n",
              "      <td>Entire home/apt</td>\n",
              "      <td>1.0</td>\n",
              "      <td>1.0</td>\n",
              "      <td>1.0</td>\n",
              "      <td>Real Bed</td>\n",
              "      <td>strict_14_with_grace_period</td>\n",
              "    </tr>\n",
              "    <tr>\n",
              "      <th>2</th>\n",
              "      <td>1206047</td>\n",
              "      <td>f</td>\n",
              "      <td>MÃ©nilmontant</td>\n",
              "      <td>Apartment</td>\n",
              "      <td>Entire home/apt</td>\n",
              "      <td>1.0</td>\n",
              "      <td>1.0</td>\n",
              "      <td>3.0</td>\n",
              "      <td>Real Bed</td>\n",
              "      <td>moderate</td>\n",
              "    </tr>\n",
              "    <tr>\n",
              "      <th>3</th>\n",
              "      <td>10514687</td>\n",
              "      <td>f</td>\n",
              "      <td>Batignolles-Monceau</td>\n",
              "      <td>Apartment</td>\n",
              "      <td>Entire home/apt</td>\n",
              "      <td>0.5</td>\n",
              "      <td>1.0</td>\n",
              "      <td>1.0</td>\n",
              "      <td>Pull-out Sofa</td>\n",
              "      <td>strict_14_with_grace_period</td>\n",
              "    </tr>\n",
              "    <tr>\n",
              "      <th>4</th>\n",
              "      <td>9005605</td>\n",
              "      <td>f</td>\n",
              "      <td>Louvre</td>\n",
              "      <td>Apartment</td>\n",
              "      <td>Entire home/apt</td>\n",
              "      <td>1.0</td>\n",
              "      <td>0.0</td>\n",
              "      <td>1.0</td>\n",
              "      <td>Pull-out Sofa</td>\n",
              "      <td>flexible</td>\n",
              "    </tr>\n",
              "  </tbody>\n",
              "</table>\n",
              "</div>"
            ],
            "text/plain": [
              "   listing_id host_is_superhost neighbourhood_cleansed property_type  \\\n",
              "0     2350957                 f      Buttes-Montmartre     Apartment   \n",
              "1     1819895                 t             Popincourt     Apartment   \n",
              "2     1206047                 f          MÃ©nilmontant     Apartment   \n",
              "3    10514687                 f    Batignolles-Monceau     Apartment   \n",
              "4     9005605                 f                 Louvre     Apartment   \n",
              "\n",
              "         room_type  bathrooms  bedrooms  beds       bed_type  \\\n",
              "0  Entire home/apt        1.0       0.0   1.0          Couch   \n",
              "1  Entire home/apt        1.0       1.0   1.0       Real Bed   \n",
              "2  Entire home/apt        1.0       1.0   3.0       Real Bed   \n",
              "3  Entire home/apt        0.5       1.0   1.0  Pull-out Sofa   \n",
              "4  Entire home/apt        1.0       0.0   1.0  Pull-out Sofa   \n",
              "\n",
              "           cancellation_policy  \n",
              "0                     flexible  \n",
              "1  strict_14_with_grace_period  \n",
              "2                     moderate  \n",
              "3  strict_14_with_grace_period  \n",
              "4                     flexible  "
            ]
          },
          "metadata": {
            "tags": []
          },
          "execution_count": 30
        }
      ]
    },
    {
      "cell_type": "code",
      "metadata": {
        "colab_type": "code",
        "id": "gW3Q4a_QT2pR",
        "colab": {}
      },
      "source": [
        "# inner join listing and calendar table\n",
        "join = pd.merge(listing_model,\n",
        "                calendar,\n",
        "                 how='inner', on = \"listing_id\")"
      ],
      "execution_count": 0,
      "outputs": []
    },
    {
      "cell_type": "code",
      "metadata": {
        "colab_type": "code",
        "id": "TbLPa1EyRyjn",
        "outputId": "7339d62c-f40a-4571-8325-c0a7e5b7b449",
        "colab": {
          "base_uri": "https://localhost:8080/",
          "height": 1029
        }
      },
      "source": [
        "join.sample(20)"
      ],
      "execution_count": 0,
      "outputs": [
        {
          "output_type": "execute_result",
          "data": {
            "text/html": [
              "<div>\n",
              "<style scoped>\n",
              "    .dataframe tbody tr th:only-of-type {\n",
              "        vertical-align: middle;\n",
              "    }\n",
              "\n",
              "    .dataframe tbody tr th {\n",
              "        vertical-align: top;\n",
              "    }\n",
              "\n",
              "    .dataframe thead th {\n",
              "        text-align: right;\n",
              "    }\n",
              "</style>\n",
              "<table border=\"1\" class=\"dataframe\">\n",
              "  <thead>\n",
              "    <tr style=\"text-align: right;\">\n",
              "      <th></th>\n",
              "      <th>listing_id</th>\n",
              "      <th>host_is_superhost</th>\n",
              "      <th>neighbourhood_cleansed</th>\n",
              "      <th>property_type</th>\n",
              "      <th>room_type</th>\n",
              "      <th>bathrooms</th>\n",
              "      <th>bedrooms</th>\n",
              "      <th>beds</th>\n",
              "      <th>bed_type</th>\n",
              "      <th>accommodates</th>\n",
              "      <th>cancellation_policy</th>\n",
              "      <th>date</th>\n",
              "      <th>available</th>\n",
              "      <th>price</th>\n",
              "    </tr>\n",
              "  </thead>\n",
              "  <tbody>\n",
              "    <tr>\n",
              "      <th>534413</th>\n",
              "      <td>7007537</td>\n",
              "      <td>f</td>\n",
              "      <td>PanthÃ©on</td>\n",
              "      <td>Apartment</td>\n",
              "      <td>Entire home/apt</td>\n",
              "      <td>1.0</td>\n",
              "      <td>1.0</td>\n",
              "      <td>2.0</td>\n",
              "      <td>Real Bed</td>\n",
              "      <td>4</td>\n",
              "      <td>strict_14_with_grace_period</td>\n",
              "      <td>2018-08-10</td>\n",
              "      <td>t</td>\n",
              "      <td>$99.00</td>\n",
              "    </tr>\n",
              "    <tr>\n",
              "      <th>630958</th>\n",
              "      <td>1616439</td>\n",
              "      <td>t</td>\n",
              "      <td>Temple</td>\n",
              "      <td>Apartment</td>\n",
              "      <td>Entire home/apt</td>\n",
              "      <td>1.0</td>\n",
              "      <td>2.0</td>\n",
              "      <td>3.0</td>\n",
              "      <td>Real Bed</td>\n",
              "      <td>5</td>\n",
              "      <td>strict_14_with_grace_period</td>\n",
              "      <td>2018-02-12</td>\n",
              "      <td>t</td>\n",
              "      <td>$195.00</td>\n",
              "    </tr>\n",
              "    <tr>\n",
              "      <th>3169676</th>\n",
              "      <td>17728835</td>\n",
              "      <td>f</td>\n",
              "      <td>Palais-Bourbon</td>\n",
              "      <td>Apartment</td>\n",
              "      <td>Entire home/apt</td>\n",
              "      <td>1.0</td>\n",
              "      <td>2.0</td>\n",
              "      <td>2.0</td>\n",
              "      <td>Real Bed</td>\n",
              "      <td>4</td>\n",
              "      <td>strict_14_with_grace_period</td>\n",
              "      <td>2018-08-31</td>\n",
              "      <td>t</td>\n",
              "      <td>$240.00</td>\n",
              "    </tr>\n",
              "    <tr>\n",
              "      <th>2342436</th>\n",
              "      <td>13903014</td>\n",
              "      <td>f</td>\n",
              "      <td>Passy</td>\n",
              "      <td>Apartment</td>\n",
              "      <td>Entire home/apt</td>\n",
              "      <td>1.0</td>\n",
              "      <td>1.0</td>\n",
              "      <td>1.0</td>\n",
              "      <td>Real Bed</td>\n",
              "      <td>4</td>\n",
              "      <td>strict_14_with_grace_period</td>\n",
              "      <td>2018-09-03</td>\n",
              "      <td>t</td>\n",
              "      <td>$85.00</td>\n",
              "    </tr>\n",
              "    <tr>\n",
              "      <th>3353722</th>\n",
              "      <td>14618856</td>\n",
              "      <td>t</td>\n",
              "      <td>Reuilly</td>\n",
              "      <td>Bed and breakfast</td>\n",
              "      <td>Private room</td>\n",
              "      <td>1.0</td>\n",
              "      <td>1.0</td>\n",
              "      <td>1.0</td>\n",
              "      <td>Real Bed</td>\n",
              "      <td>2</td>\n",
              "      <td>flexible</td>\n",
              "      <td>2018-09-21</td>\n",
              "      <td>t</td>\n",
              "      <td>$110.00</td>\n",
              "    </tr>\n",
              "    <tr>\n",
              "      <th>2517515</th>\n",
              "      <td>823177</td>\n",
              "      <td>f</td>\n",
              "      <td>Buttes-Chaumont</td>\n",
              "      <td>Apartment</td>\n",
              "      <td>Entire home/apt</td>\n",
              "      <td>1.0</td>\n",
              "      <td>2.0</td>\n",
              "      <td>3.0</td>\n",
              "      <td>Real Bed</td>\n",
              "      <td>6</td>\n",
              "      <td>strict_14_with_grace_period</td>\n",
              "      <td>2018-01-18</td>\n",
              "      <td>t</td>\n",
              "      <td>$55.00</td>\n",
              "    </tr>\n",
              "    <tr>\n",
              "      <th>570402</th>\n",
              "      <td>11931352</td>\n",
              "      <td>f</td>\n",
              "      <td>Batignolles-Monceau</td>\n",
              "      <td>Apartment</td>\n",
              "      <td>Entire home/apt</td>\n",
              "      <td>1.0</td>\n",
              "      <td>1.0</td>\n",
              "      <td>1.0</td>\n",
              "      <td>Real Bed</td>\n",
              "      <td>2</td>\n",
              "      <td>flexible</td>\n",
              "      <td>2018-06-12</td>\n",
              "      <td>t</td>\n",
              "      <td>$53.00</td>\n",
              "    </tr>\n",
              "    <tr>\n",
              "      <th>842061</th>\n",
              "      <td>943903</td>\n",
              "      <td>f</td>\n",
              "      <td>EntrepÃ´t</td>\n",
              "      <td>Apartment</td>\n",
              "      <td>Entire home/apt</td>\n",
              "      <td>1.0</td>\n",
              "      <td>2.0</td>\n",
              "      <td>2.0</td>\n",
              "      <td>Real Bed</td>\n",
              "      <td>3</td>\n",
              "      <td>flexible</td>\n",
              "      <td>2018-02-12</td>\n",
              "      <td>t</td>\n",
              "      <td>$85.00</td>\n",
              "    </tr>\n",
              "    <tr>\n",
              "      <th>2428007</th>\n",
              "      <td>21876010</td>\n",
              "      <td>f</td>\n",
              "      <td>Popincourt</td>\n",
              "      <td>Serviced apartment</td>\n",
              "      <td>Entire home/apt</td>\n",
              "      <td>2.0</td>\n",
              "      <td>2.0</td>\n",
              "      <td>5.0</td>\n",
              "      <td>Real Bed</td>\n",
              "      <td>7</td>\n",
              "      <td>strict_14_with_grace_period</td>\n",
              "      <td>2018-06-27</td>\n",
              "      <td>t</td>\n",
              "      <td>$180.00</td>\n",
              "    </tr>\n",
              "    <tr>\n",
              "      <th>853102</th>\n",
              "      <td>1873150</td>\n",
              "      <td>f</td>\n",
              "      <td>Buttes-Montmartre</td>\n",
              "      <td>Apartment</td>\n",
              "      <td>Entire home/apt</td>\n",
              "      <td>1.0</td>\n",
              "      <td>1.0</td>\n",
              "      <td>1.0</td>\n",
              "      <td>Real Bed</td>\n",
              "      <td>2</td>\n",
              "      <td>moderate</td>\n",
              "      <td>2018-05-13</td>\n",
              "      <td>t</td>\n",
              "      <td>$75.00</td>\n",
              "    </tr>\n",
              "    <tr>\n",
              "      <th>1232313</th>\n",
              "      <td>2904319</td>\n",
              "      <td>f</td>\n",
              "      <td>Vaugirard</td>\n",
              "      <td>Apartment</td>\n",
              "      <td>Entire home/apt</td>\n",
              "      <td>1.0</td>\n",
              "      <td>1.0</td>\n",
              "      <td>2.0</td>\n",
              "      <td>Real Bed</td>\n",
              "      <td>4</td>\n",
              "      <td>strict_14_with_grace_period</td>\n",
              "      <td>2018-02-04</td>\n",
              "      <td>t</td>\n",
              "      <td>$130.00</td>\n",
              "    </tr>\n",
              "    <tr>\n",
              "      <th>1438</th>\n",
              "      <td>20443219</td>\n",
              "      <td>f</td>\n",
              "      <td>Passy</td>\n",
              "      <td>Apartment</td>\n",
              "      <td>Entire home/apt</td>\n",
              "      <td>2.0</td>\n",
              "      <td>2.0</td>\n",
              "      <td>2.0</td>\n",
              "      <td>Real Bed</td>\n",
              "      <td>4</td>\n",
              "      <td>strict_14_with_grace_period</td>\n",
              "      <td>2018-11-19</td>\n",
              "      <td>t</td>\n",
              "      <td>$315.00</td>\n",
              "    </tr>\n",
              "    <tr>\n",
              "      <th>2621136</th>\n",
              "      <td>1682695</td>\n",
              "      <td>f</td>\n",
              "      <td>EntrepÃ´t</td>\n",
              "      <td>Loft</td>\n",
              "      <td>Entire home/apt</td>\n",
              "      <td>2.0</td>\n",
              "      <td>3.0</td>\n",
              "      <td>5.0</td>\n",
              "      <td>Real Bed</td>\n",
              "      <td>7</td>\n",
              "      <td>strict_14_with_grace_period</td>\n",
              "      <td>2018-04-24</td>\n",
              "      <td>t</td>\n",
              "      <td>$250.00</td>\n",
              "    </tr>\n",
              "    <tr>\n",
              "      <th>3332421</th>\n",
              "      <td>10509789</td>\n",
              "      <td>f</td>\n",
              "      <td>Palais-Bourbon</td>\n",
              "      <td>Apartment</td>\n",
              "      <td>Private room</td>\n",
              "      <td>1.0</td>\n",
              "      <td>1.0</td>\n",
              "      <td>2.0</td>\n",
              "      <td>Real Bed</td>\n",
              "      <td>2</td>\n",
              "      <td>flexible</td>\n",
              "      <td>2018-11-07</td>\n",
              "      <td>t</td>\n",
              "      <td>$100.00</td>\n",
              "    </tr>\n",
              "    <tr>\n",
              "      <th>133137</th>\n",
              "      <td>3536367</td>\n",
              "      <td>f</td>\n",
              "      <td>Vaugirard</td>\n",
              "      <td>Apartment</td>\n",
              "      <td>Entire home/apt</td>\n",
              "      <td>1.0</td>\n",
              "      <td>1.0</td>\n",
              "      <td>2.0</td>\n",
              "      <td>Real Bed</td>\n",
              "      <td>4</td>\n",
              "      <td>strict_14_with_grace_period</td>\n",
              "      <td>2018-03-16</td>\n",
              "      <td>t</td>\n",
              "      <td>$59.00</td>\n",
              "    </tr>\n",
              "    <tr>\n",
              "      <th>266951</th>\n",
              "      <td>1002732</td>\n",
              "      <td>f</td>\n",
              "      <td>Reuilly</td>\n",
              "      <td>Apartment</td>\n",
              "      <td>Entire home/apt</td>\n",
              "      <td>1.0</td>\n",
              "      <td>2.0</td>\n",
              "      <td>1.0</td>\n",
              "      <td>Real Bed</td>\n",
              "      <td>2</td>\n",
              "      <td>strict_14_with_grace_period</td>\n",
              "      <td>2018-10-22</td>\n",
              "      <td>t</td>\n",
              "      <td>$50.00</td>\n",
              "    </tr>\n",
              "    <tr>\n",
              "      <th>2361740</th>\n",
              "      <td>16983207</td>\n",
              "      <td>f</td>\n",
              "      <td>Buttes-Montmartre</td>\n",
              "      <td>Apartment</td>\n",
              "      <td>Entire home/apt</td>\n",
              "      <td>1.0</td>\n",
              "      <td>1.0</td>\n",
              "      <td>2.0</td>\n",
              "      <td>Real Bed</td>\n",
              "      <td>2</td>\n",
              "      <td>moderate</td>\n",
              "      <td>2018-04-15</td>\n",
              "      <td>t</td>\n",
              "      <td>$110.00</td>\n",
              "    </tr>\n",
              "    <tr>\n",
              "      <th>167115</th>\n",
              "      <td>10401652</td>\n",
              "      <td>f</td>\n",
              "      <td>Vaugirard</td>\n",
              "      <td>Apartment</td>\n",
              "      <td>Entire home/apt</td>\n",
              "      <td>1.0</td>\n",
              "      <td>0.0</td>\n",
              "      <td>1.0</td>\n",
              "      <td>Pull-out Sofa</td>\n",
              "      <td>2</td>\n",
              "      <td>strict_14_with_grace_period</td>\n",
              "      <td>2018-03-31</td>\n",
              "      <td>t</td>\n",
              "      <td>$49.00</td>\n",
              "    </tr>\n",
              "    <tr>\n",
              "      <th>2866271</th>\n",
              "      <td>5852673</td>\n",
              "      <td>t</td>\n",
              "      <td>Temple</td>\n",
              "      <td>Apartment</td>\n",
              "      <td>Entire home/apt</td>\n",
              "      <td>1.0</td>\n",
              "      <td>1.0</td>\n",
              "      <td>1.0</td>\n",
              "      <td>Real Bed</td>\n",
              "      <td>2</td>\n",
              "      <td>flexible</td>\n",
              "      <td>2018-01-25</td>\n",
              "      <td>t</td>\n",
              "      <td>$120.00</td>\n",
              "    </tr>\n",
              "    <tr>\n",
              "      <th>2239675</th>\n",
              "      <td>21488020</td>\n",
              "      <td>f</td>\n",
              "      <td>Popincourt</td>\n",
              "      <td>Apartment</td>\n",
              "      <td>Entire home/apt</td>\n",
              "      <td>1.0</td>\n",
              "      <td>1.0</td>\n",
              "      <td>2.0</td>\n",
              "      <td>Real Bed</td>\n",
              "      <td>3</td>\n",
              "      <td>strict_14_with_grace_period</td>\n",
              "      <td>2018-03-17</td>\n",
              "      <td>t</td>\n",
              "      <td>$112.00</td>\n",
              "    </tr>\n",
              "  </tbody>\n",
              "</table>\n",
              "</div>"
            ],
            "text/plain": [
              "         listing_id host_is_superhost neighbourhood_cleansed  \\\n",
              "534413      7007537                 f              PanthÃ©on   \n",
              "630958      1616439                 t                 Temple   \n",
              "3169676    17728835                 f         Palais-Bourbon   \n",
              "2342436    13903014                 f                  Passy   \n",
              "3353722    14618856                 t                Reuilly   \n",
              "2517515      823177                 f        Buttes-Chaumont   \n",
              "570402     11931352                 f    Batignolles-Monceau   \n",
              "842061       943903                 f              EntrepÃ´t   \n",
              "2428007    21876010                 f             Popincourt   \n",
              "853102      1873150                 f      Buttes-Montmartre   \n",
              "1232313     2904319                 f              Vaugirard   \n",
              "1438       20443219                 f                  Passy   \n",
              "2621136     1682695                 f              EntrepÃ´t   \n",
              "3332421    10509789                 f         Palais-Bourbon   \n",
              "133137      3536367                 f              Vaugirard   \n",
              "266951      1002732                 f                Reuilly   \n",
              "2361740    16983207                 f      Buttes-Montmartre   \n",
              "167115     10401652                 f              Vaugirard   \n",
              "2866271     5852673                 t                 Temple   \n",
              "2239675    21488020                 f             Popincourt   \n",
              "\n",
              "              property_type        room_type  bathrooms  bedrooms  beds  \\\n",
              "534413            Apartment  Entire home/apt        1.0       1.0   2.0   \n",
              "630958            Apartment  Entire home/apt        1.0       2.0   3.0   \n",
              "3169676           Apartment  Entire home/apt        1.0       2.0   2.0   \n",
              "2342436           Apartment  Entire home/apt        1.0       1.0   1.0   \n",
              "3353722   Bed and breakfast     Private room        1.0       1.0   1.0   \n",
              "2517515           Apartment  Entire home/apt        1.0       2.0   3.0   \n",
              "570402            Apartment  Entire home/apt        1.0       1.0   1.0   \n",
              "842061            Apartment  Entire home/apt        1.0       2.0   2.0   \n",
              "2428007  Serviced apartment  Entire home/apt        2.0       2.0   5.0   \n",
              "853102            Apartment  Entire home/apt        1.0       1.0   1.0   \n",
              "1232313           Apartment  Entire home/apt        1.0       1.0   2.0   \n",
              "1438              Apartment  Entire home/apt        2.0       2.0   2.0   \n",
              "2621136                Loft  Entire home/apt        2.0       3.0   5.0   \n",
              "3332421           Apartment     Private room        1.0       1.0   2.0   \n",
              "133137            Apartment  Entire home/apt        1.0       1.0   2.0   \n",
              "266951            Apartment  Entire home/apt        1.0       2.0   1.0   \n",
              "2361740           Apartment  Entire home/apt        1.0       1.0   2.0   \n",
              "167115            Apartment  Entire home/apt        1.0       0.0   1.0   \n",
              "2866271           Apartment  Entire home/apt        1.0       1.0   1.0   \n",
              "2239675           Apartment  Entire home/apt        1.0       1.0   2.0   \n",
              "\n",
              "              bed_type  accommodates          cancellation_policy        date  \\\n",
              "534413        Real Bed             4  strict_14_with_grace_period  2018-08-10   \n",
              "630958        Real Bed             5  strict_14_with_grace_period  2018-02-12   \n",
              "3169676       Real Bed             4  strict_14_with_grace_period  2018-08-31   \n",
              "2342436       Real Bed             4  strict_14_with_grace_period  2018-09-03   \n",
              "3353722       Real Bed             2                     flexible  2018-09-21   \n",
              "2517515       Real Bed             6  strict_14_with_grace_period  2018-01-18   \n",
              "570402        Real Bed             2                     flexible  2018-06-12   \n",
              "842061        Real Bed             3                     flexible  2018-02-12   \n",
              "2428007       Real Bed             7  strict_14_with_grace_period  2018-06-27   \n",
              "853102        Real Bed             2                     moderate  2018-05-13   \n",
              "1232313       Real Bed             4  strict_14_with_grace_period  2018-02-04   \n",
              "1438          Real Bed             4  strict_14_with_grace_period  2018-11-19   \n",
              "2621136       Real Bed             7  strict_14_with_grace_period  2018-04-24   \n",
              "3332421       Real Bed             2                     flexible  2018-11-07   \n",
              "133137        Real Bed             4  strict_14_with_grace_period  2018-03-16   \n",
              "266951        Real Bed             2  strict_14_with_grace_period  2018-10-22   \n",
              "2361740       Real Bed             2                     moderate  2018-04-15   \n",
              "167115   Pull-out Sofa             2  strict_14_with_grace_period  2018-03-31   \n",
              "2866271       Real Bed             2                     flexible  2018-01-25   \n",
              "2239675       Real Bed             3  strict_14_with_grace_period  2018-03-17   \n",
              "\n",
              "        available    price  \n",
              "534413          t   $99.00  \n",
              "630958          t  $195.00  \n",
              "3169676         t  $240.00  \n",
              "2342436         t   $85.00  \n",
              "3353722         t  $110.00  \n",
              "2517515         t   $55.00  \n",
              "570402          t   $53.00  \n",
              "842061          t   $85.00  \n",
              "2428007         t  $180.00  \n",
              "853102          t   $75.00  \n",
              "1232313         t  $130.00  \n",
              "1438            t  $315.00  \n",
              "2621136         t  $250.00  \n",
              "3332421         t  $100.00  \n",
              "133137          t   $59.00  \n",
              "266951          t   $50.00  \n",
              "2361740         t  $110.00  \n",
              "167115          t   $49.00  \n",
              "2866271         t  $120.00  \n",
              "2239675         t  $112.00  "
            ]
          },
          "metadata": {
            "tags": []
          },
          "execution_count": 57
        }
      ]
    },
    {
      "cell_type": "code",
      "metadata": {
        "id": "tmEZDB41QcZE",
        "colab_type": "code",
        "colab": {}
      },
      "source": [
        "join.dropna(inplace = True)"
      ],
      "execution_count": 0,
      "outputs": []
    },
    {
      "cell_type": "code",
      "metadata": {
        "id": "_Ibt-2J_QfUw",
        "colab_type": "code",
        "outputId": "f62b616e-bbcc-4d14-9090-4f206cd16cd9",
        "colab": {
          "base_uri": "https://localhost:8080/",
          "height": 35
        }
      },
      "source": [
        "join.shape"
      ],
      "execution_count": 0,
      "outputs": [
        {
          "output_type": "execute_result",
          "data": {
            "text/plain": [
              "(3378389, 14)"
            ]
          },
          "metadata": {
            "tags": []
          },
          "execution_count": 59
        }
      ]
    },
    {
      "cell_type": "code",
      "metadata": {
        "colab_type": "code",
        "id": "m6bS4bnfVWuc",
        "colab": {}
      },
      "source": [
        "join['date'] = pd.to_datetime(join['date'])"
      ],
      "execution_count": 0,
      "outputs": []
    },
    {
      "cell_type": "code",
      "metadata": {
        "colab_type": "code",
        "id": "CovtpDmEW29i",
        "colab": {}
      },
      "source": [
        "# create a weekday feature\n",
        "join['weekday'] = [x.weekday() for x in join['date']]\n"
      ],
      "execution_count": 0,
      "outputs": []
    },
    {
      "cell_type": "code",
      "metadata": {
        "colab_type": "code",
        "id": "cxUyi1V4eFa6",
        "colab": {}
      },
      "source": [
        "# convert the weekday feature to boolean\n",
        " join['weekday'] = [0 if x in [4, 5] else 1 for x in join['weekday']]"
      ],
      "execution_count": 0,
      "outputs": []
    },
    {
      "cell_type": "code",
      "metadata": {
        "id": "CdNtn7uPaTrO",
        "colab_type": "code",
        "outputId": "72d28428-e266-42e2-91d2-7dcf74ff5287",
        "colab": {
          "base_uri": "https://localhost:8080/",
          "height": 1029
        }
      },
      "source": [
        "join.head(20)"
      ],
      "execution_count": 0,
      "outputs": [
        {
          "output_type": "execute_result",
          "data": {
            "text/html": [
              "<div>\n",
              "<style scoped>\n",
              "    .dataframe tbody tr th:only-of-type {\n",
              "        vertical-align: middle;\n",
              "    }\n",
              "\n",
              "    .dataframe tbody tr th {\n",
              "        vertical-align: top;\n",
              "    }\n",
              "\n",
              "    .dataframe thead th {\n",
              "        text-align: right;\n",
              "    }\n",
              "</style>\n",
              "<table border=\"1\" class=\"dataframe\">\n",
              "  <thead>\n",
              "    <tr style=\"text-align: right;\">\n",
              "      <th></th>\n",
              "      <th>listing_id</th>\n",
              "      <th>host_is_superhost</th>\n",
              "      <th>neighbourhood_cleansed</th>\n",
              "      <th>property_type</th>\n",
              "      <th>room_type</th>\n",
              "      <th>bathrooms</th>\n",
              "      <th>bedrooms</th>\n",
              "      <th>beds</th>\n",
              "      <th>bed_type</th>\n",
              "      <th>cancellation_policy</th>\n",
              "      <th>date</th>\n",
              "      <th>available</th>\n",
              "      <th>price</th>\n",
              "      <th>weekday</th>\n",
              "    </tr>\n",
              "  </thead>\n",
              "  <tbody>\n",
              "    <tr>\n",
              "      <th>0</th>\n",
              "      <td>1819895</td>\n",
              "      <td>t</td>\n",
              "      <td>Popincourt</td>\n",
              "      <td>Apartment</td>\n",
              "      <td>Entire home/apt</td>\n",
              "      <td>1.0</td>\n",
              "      <td>1.0</td>\n",
              "      <td>1.0</td>\n",
              "      <td>Real Bed</td>\n",
              "      <td>strict_14_with_grace_period</td>\n",
              "      <td>2018-09-24</td>\n",
              "      <td>t</td>\n",
              "      <td>$150.00</td>\n",
              "      <td>1</td>\n",
              "    </tr>\n",
              "    <tr>\n",
              "      <th>1</th>\n",
              "      <td>1819895</td>\n",
              "      <td>t</td>\n",
              "      <td>Popincourt</td>\n",
              "      <td>Apartment</td>\n",
              "      <td>Entire home/apt</td>\n",
              "      <td>1.0</td>\n",
              "      <td>1.0</td>\n",
              "      <td>1.0</td>\n",
              "      <td>Real Bed</td>\n",
              "      <td>strict_14_with_grace_period</td>\n",
              "      <td>2018-09-23</td>\n",
              "      <td>t</td>\n",
              "      <td>$150.00</td>\n",
              "      <td>1</td>\n",
              "    </tr>\n",
              "    <tr>\n",
              "      <th>2</th>\n",
              "      <td>1819895</td>\n",
              "      <td>t</td>\n",
              "      <td>Popincourt</td>\n",
              "      <td>Apartment</td>\n",
              "      <td>Entire home/apt</td>\n",
              "      <td>1.0</td>\n",
              "      <td>1.0</td>\n",
              "      <td>1.0</td>\n",
              "      <td>Real Bed</td>\n",
              "      <td>strict_14_with_grace_period</td>\n",
              "      <td>2018-09-22</td>\n",
              "      <td>t</td>\n",
              "      <td>$150.00</td>\n",
              "      <td>0</td>\n",
              "    </tr>\n",
              "    <tr>\n",
              "      <th>3</th>\n",
              "      <td>1819895</td>\n",
              "      <td>t</td>\n",
              "      <td>Popincourt</td>\n",
              "      <td>Apartment</td>\n",
              "      <td>Entire home/apt</td>\n",
              "      <td>1.0</td>\n",
              "      <td>1.0</td>\n",
              "      <td>1.0</td>\n",
              "      <td>Real Bed</td>\n",
              "      <td>strict_14_with_grace_period</td>\n",
              "      <td>2018-09-21</td>\n",
              "      <td>t</td>\n",
              "      <td>$150.00</td>\n",
              "      <td>0</td>\n",
              "    </tr>\n",
              "    <tr>\n",
              "      <th>4</th>\n",
              "      <td>1819895</td>\n",
              "      <td>t</td>\n",
              "      <td>Popincourt</td>\n",
              "      <td>Apartment</td>\n",
              "      <td>Entire home/apt</td>\n",
              "      <td>1.0</td>\n",
              "      <td>1.0</td>\n",
              "      <td>1.0</td>\n",
              "      <td>Real Bed</td>\n",
              "      <td>strict_14_with_grace_period</td>\n",
              "      <td>2018-09-20</td>\n",
              "      <td>t</td>\n",
              "      <td>$150.00</td>\n",
              "      <td>1</td>\n",
              "    </tr>\n",
              "    <tr>\n",
              "      <th>5</th>\n",
              "      <td>1819895</td>\n",
              "      <td>t</td>\n",
              "      <td>Popincourt</td>\n",
              "      <td>Apartment</td>\n",
              "      <td>Entire home/apt</td>\n",
              "      <td>1.0</td>\n",
              "      <td>1.0</td>\n",
              "      <td>1.0</td>\n",
              "      <td>Real Bed</td>\n",
              "      <td>strict_14_with_grace_period</td>\n",
              "      <td>2018-09-19</td>\n",
              "      <td>t</td>\n",
              "      <td>$150.00</td>\n",
              "      <td>1</td>\n",
              "    </tr>\n",
              "    <tr>\n",
              "      <th>6</th>\n",
              "      <td>1819895</td>\n",
              "      <td>t</td>\n",
              "      <td>Popincourt</td>\n",
              "      <td>Apartment</td>\n",
              "      <td>Entire home/apt</td>\n",
              "      <td>1.0</td>\n",
              "      <td>1.0</td>\n",
              "      <td>1.0</td>\n",
              "      <td>Real Bed</td>\n",
              "      <td>strict_14_with_grace_period</td>\n",
              "      <td>2018-09-18</td>\n",
              "      <td>t</td>\n",
              "      <td>$150.00</td>\n",
              "      <td>1</td>\n",
              "    </tr>\n",
              "    <tr>\n",
              "      <th>7</th>\n",
              "      <td>1819895</td>\n",
              "      <td>t</td>\n",
              "      <td>Popincourt</td>\n",
              "      <td>Apartment</td>\n",
              "      <td>Entire home/apt</td>\n",
              "      <td>1.0</td>\n",
              "      <td>1.0</td>\n",
              "      <td>1.0</td>\n",
              "      <td>Real Bed</td>\n",
              "      <td>strict_14_with_grace_period</td>\n",
              "      <td>2018-09-17</td>\n",
              "      <td>t</td>\n",
              "      <td>$150.00</td>\n",
              "      <td>1</td>\n",
              "    </tr>\n",
              "    <tr>\n",
              "      <th>8</th>\n",
              "      <td>1819895</td>\n",
              "      <td>t</td>\n",
              "      <td>Popincourt</td>\n",
              "      <td>Apartment</td>\n",
              "      <td>Entire home/apt</td>\n",
              "      <td>1.0</td>\n",
              "      <td>1.0</td>\n",
              "      <td>1.0</td>\n",
              "      <td>Real Bed</td>\n",
              "      <td>strict_14_with_grace_period</td>\n",
              "      <td>2018-09-16</td>\n",
              "      <td>t</td>\n",
              "      <td>$150.00</td>\n",
              "      <td>1</td>\n",
              "    </tr>\n",
              "    <tr>\n",
              "      <th>9</th>\n",
              "      <td>1819895</td>\n",
              "      <td>t</td>\n",
              "      <td>Popincourt</td>\n",
              "      <td>Apartment</td>\n",
              "      <td>Entire home/apt</td>\n",
              "      <td>1.0</td>\n",
              "      <td>1.0</td>\n",
              "      <td>1.0</td>\n",
              "      <td>Real Bed</td>\n",
              "      <td>strict_14_with_grace_period</td>\n",
              "      <td>2018-09-15</td>\n",
              "      <td>t</td>\n",
              "      <td>$150.00</td>\n",
              "      <td>0</td>\n",
              "    </tr>\n",
              "    <tr>\n",
              "      <th>10</th>\n",
              "      <td>1819895</td>\n",
              "      <td>t</td>\n",
              "      <td>Popincourt</td>\n",
              "      <td>Apartment</td>\n",
              "      <td>Entire home/apt</td>\n",
              "      <td>1.0</td>\n",
              "      <td>1.0</td>\n",
              "      <td>1.0</td>\n",
              "      <td>Real Bed</td>\n",
              "      <td>strict_14_with_grace_period</td>\n",
              "      <td>2018-09-14</td>\n",
              "      <td>t</td>\n",
              "      <td>$150.00</td>\n",
              "      <td>0</td>\n",
              "    </tr>\n",
              "    <tr>\n",
              "      <th>11</th>\n",
              "      <td>1819895</td>\n",
              "      <td>t</td>\n",
              "      <td>Popincourt</td>\n",
              "      <td>Apartment</td>\n",
              "      <td>Entire home/apt</td>\n",
              "      <td>1.0</td>\n",
              "      <td>1.0</td>\n",
              "      <td>1.0</td>\n",
              "      <td>Real Bed</td>\n",
              "      <td>strict_14_with_grace_period</td>\n",
              "      <td>2018-09-13</td>\n",
              "      <td>t</td>\n",
              "      <td>$150.00</td>\n",
              "      <td>1</td>\n",
              "    </tr>\n",
              "    <tr>\n",
              "      <th>12</th>\n",
              "      <td>1819895</td>\n",
              "      <td>t</td>\n",
              "      <td>Popincourt</td>\n",
              "      <td>Apartment</td>\n",
              "      <td>Entire home/apt</td>\n",
              "      <td>1.0</td>\n",
              "      <td>1.0</td>\n",
              "      <td>1.0</td>\n",
              "      <td>Real Bed</td>\n",
              "      <td>strict_14_with_grace_period</td>\n",
              "      <td>2018-09-12</td>\n",
              "      <td>t</td>\n",
              "      <td>$150.00</td>\n",
              "      <td>1</td>\n",
              "    </tr>\n",
              "    <tr>\n",
              "      <th>13</th>\n",
              "      <td>1819895</td>\n",
              "      <td>t</td>\n",
              "      <td>Popincourt</td>\n",
              "      <td>Apartment</td>\n",
              "      <td>Entire home/apt</td>\n",
              "      <td>1.0</td>\n",
              "      <td>1.0</td>\n",
              "      <td>1.0</td>\n",
              "      <td>Real Bed</td>\n",
              "      <td>strict_14_with_grace_period</td>\n",
              "      <td>2018-09-11</td>\n",
              "      <td>t</td>\n",
              "      <td>$150.00</td>\n",
              "      <td>1</td>\n",
              "    </tr>\n",
              "    <tr>\n",
              "      <th>14</th>\n",
              "      <td>1819895</td>\n",
              "      <td>t</td>\n",
              "      <td>Popincourt</td>\n",
              "      <td>Apartment</td>\n",
              "      <td>Entire home/apt</td>\n",
              "      <td>1.0</td>\n",
              "      <td>1.0</td>\n",
              "      <td>1.0</td>\n",
              "      <td>Real Bed</td>\n",
              "      <td>strict_14_with_grace_period</td>\n",
              "      <td>2018-09-10</td>\n",
              "      <td>t</td>\n",
              "      <td>$150.00</td>\n",
              "      <td>1</td>\n",
              "    </tr>\n",
              "    <tr>\n",
              "      <th>15</th>\n",
              "      <td>1819895</td>\n",
              "      <td>t</td>\n",
              "      <td>Popincourt</td>\n",
              "      <td>Apartment</td>\n",
              "      <td>Entire home/apt</td>\n",
              "      <td>1.0</td>\n",
              "      <td>1.0</td>\n",
              "      <td>1.0</td>\n",
              "      <td>Real Bed</td>\n",
              "      <td>strict_14_with_grace_period</td>\n",
              "      <td>2018-09-09</td>\n",
              "      <td>t</td>\n",
              "      <td>$150.00</td>\n",
              "      <td>1</td>\n",
              "    </tr>\n",
              "    <tr>\n",
              "      <th>16</th>\n",
              "      <td>1819895</td>\n",
              "      <td>t</td>\n",
              "      <td>Popincourt</td>\n",
              "      <td>Apartment</td>\n",
              "      <td>Entire home/apt</td>\n",
              "      <td>1.0</td>\n",
              "      <td>1.0</td>\n",
              "      <td>1.0</td>\n",
              "      <td>Real Bed</td>\n",
              "      <td>strict_14_with_grace_period</td>\n",
              "      <td>2018-09-08</td>\n",
              "      <td>t</td>\n",
              "      <td>$150.00</td>\n",
              "      <td>0</td>\n",
              "    </tr>\n",
              "    <tr>\n",
              "      <th>17</th>\n",
              "      <td>1819895</td>\n",
              "      <td>t</td>\n",
              "      <td>Popincourt</td>\n",
              "      <td>Apartment</td>\n",
              "      <td>Entire home/apt</td>\n",
              "      <td>1.0</td>\n",
              "      <td>1.0</td>\n",
              "      <td>1.0</td>\n",
              "      <td>Real Bed</td>\n",
              "      <td>strict_14_with_grace_period</td>\n",
              "      <td>2018-09-07</td>\n",
              "      <td>t</td>\n",
              "      <td>$150.00</td>\n",
              "      <td>0</td>\n",
              "    </tr>\n",
              "    <tr>\n",
              "      <th>18</th>\n",
              "      <td>1819895</td>\n",
              "      <td>t</td>\n",
              "      <td>Popincourt</td>\n",
              "      <td>Apartment</td>\n",
              "      <td>Entire home/apt</td>\n",
              "      <td>1.0</td>\n",
              "      <td>1.0</td>\n",
              "      <td>1.0</td>\n",
              "      <td>Real Bed</td>\n",
              "      <td>strict_14_with_grace_period</td>\n",
              "      <td>2018-09-06</td>\n",
              "      <td>t</td>\n",
              "      <td>$150.00</td>\n",
              "      <td>1</td>\n",
              "    </tr>\n",
              "    <tr>\n",
              "      <th>19</th>\n",
              "      <td>1819895</td>\n",
              "      <td>t</td>\n",
              "      <td>Popincourt</td>\n",
              "      <td>Apartment</td>\n",
              "      <td>Entire home/apt</td>\n",
              "      <td>1.0</td>\n",
              "      <td>1.0</td>\n",
              "      <td>1.0</td>\n",
              "      <td>Real Bed</td>\n",
              "      <td>strict_14_with_grace_period</td>\n",
              "      <td>2018-09-05</td>\n",
              "      <td>t</td>\n",
              "      <td>$150.00</td>\n",
              "      <td>1</td>\n",
              "    </tr>\n",
              "  </tbody>\n",
              "</table>\n",
              "</div>"
            ],
            "text/plain": [
              "    listing_id host_is_superhost neighbourhood_cleansed property_type  \\\n",
              "0      1819895                 t             Popincourt     Apartment   \n",
              "1      1819895                 t             Popincourt     Apartment   \n",
              "2      1819895                 t             Popincourt     Apartment   \n",
              "3      1819895                 t             Popincourt     Apartment   \n",
              "4      1819895                 t             Popincourt     Apartment   \n",
              "5      1819895                 t             Popincourt     Apartment   \n",
              "6      1819895                 t             Popincourt     Apartment   \n",
              "7      1819895                 t             Popincourt     Apartment   \n",
              "8      1819895                 t             Popincourt     Apartment   \n",
              "9      1819895                 t             Popincourt     Apartment   \n",
              "10     1819895                 t             Popincourt     Apartment   \n",
              "11     1819895                 t             Popincourt     Apartment   \n",
              "12     1819895                 t             Popincourt     Apartment   \n",
              "13     1819895                 t             Popincourt     Apartment   \n",
              "14     1819895                 t             Popincourt     Apartment   \n",
              "15     1819895                 t             Popincourt     Apartment   \n",
              "16     1819895                 t             Popincourt     Apartment   \n",
              "17     1819895                 t             Popincourt     Apartment   \n",
              "18     1819895                 t             Popincourt     Apartment   \n",
              "19     1819895                 t             Popincourt     Apartment   \n",
              "\n",
              "          room_type  bathrooms  bedrooms  beds  bed_type  \\\n",
              "0   Entire home/apt        1.0       1.0   1.0  Real Bed   \n",
              "1   Entire home/apt        1.0       1.0   1.0  Real Bed   \n",
              "2   Entire home/apt        1.0       1.0   1.0  Real Bed   \n",
              "3   Entire home/apt        1.0       1.0   1.0  Real Bed   \n",
              "4   Entire home/apt        1.0       1.0   1.0  Real Bed   \n",
              "5   Entire home/apt        1.0       1.0   1.0  Real Bed   \n",
              "6   Entire home/apt        1.0       1.0   1.0  Real Bed   \n",
              "7   Entire home/apt        1.0       1.0   1.0  Real Bed   \n",
              "8   Entire home/apt        1.0       1.0   1.0  Real Bed   \n",
              "9   Entire home/apt        1.0       1.0   1.0  Real Bed   \n",
              "10  Entire home/apt        1.0       1.0   1.0  Real Bed   \n",
              "11  Entire home/apt        1.0       1.0   1.0  Real Bed   \n",
              "12  Entire home/apt        1.0       1.0   1.0  Real Bed   \n",
              "13  Entire home/apt        1.0       1.0   1.0  Real Bed   \n",
              "14  Entire home/apt        1.0       1.0   1.0  Real Bed   \n",
              "15  Entire home/apt        1.0       1.0   1.0  Real Bed   \n",
              "16  Entire home/apt        1.0       1.0   1.0  Real Bed   \n",
              "17  Entire home/apt        1.0       1.0   1.0  Real Bed   \n",
              "18  Entire home/apt        1.0       1.0   1.0  Real Bed   \n",
              "19  Entire home/apt        1.0       1.0   1.0  Real Bed   \n",
              "\n",
              "            cancellation_policy       date available    price  weekday  \n",
              "0   strict_14_with_grace_period 2018-09-24         t  $150.00        1  \n",
              "1   strict_14_with_grace_period 2018-09-23         t  $150.00        1  \n",
              "2   strict_14_with_grace_period 2018-09-22         t  $150.00        0  \n",
              "3   strict_14_with_grace_period 2018-09-21         t  $150.00        0  \n",
              "4   strict_14_with_grace_period 2018-09-20         t  $150.00        1  \n",
              "5   strict_14_with_grace_period 2018-09-19         t  $150.00        1  \n",
              "6   strict_14_with_grace_period 2018-09-18         t  $150.00        1  \n",
              "7   strict_14_with_grace_period 2018-09-17         t  $150.00        1  \n",
              "8   strict_14_with_grace_period 2018-09-16         t  $150.00        1  \n",
              "9   strict_14_with_grace_period 2018-09-15         t  $150.00        0  \n",
              "10  strict_14_with_grace_period 2018-09-14         t  $150.00        0  \n",
              "11  strict_14_with_grace_period 2018-09-13         t  $150.00        1  \n",
              "12  strict_14_with_grace_period 2018-09-12         t  $150.00        1  \n",
              "13  strict_14_with_grace_period 2018-09-11         t  $150.00        1  \n",
              "14  strict_14_with_grace_period 2018-09-10         t  $150.00        1  \n",
              "15  strict_14_with_grace_period 2018-09-09         t  $150.00        1  \n",
              "16  strict_14_with_grace_period 2018-09-08         t  $150.00        0  \n",
              "17  strict_14_with_grace_period 2018-09-07         t  $150.00        0  \n",
              "18  strict_14_with_grace_period 2018-09-06         t  $150.00        1  \n",
              "19  strict_14_with_grace_period 2018-09-05         t  $150.00        1  "
            ]
          },
          "metadata": {
            "tags": []
          },
          "execution_count": 36
        }
      ]
    },
    {
      "cell_type": "code",
      "metadata": {
        "colab_type": "code",
        "id": "jMk3Gl_DZd37",
        "colab": {}
      },
      "source": [
        "join.dropna(inplace = True)"
      ],
      "execution_count": 0,
      "outputs": []
    },
    {
      "cell_type": "code",
      "metadata": {
        "colab_type": "code",
        "id": "x9NWz5yrpGAn",
        "outputId": "64aea73d-8207-4173-a38b-154c39314abe",
        "colab": {
          "base_uri": "https://localhost:8080/",
          "height": 35
        }
      },
      "source": [
        "join.shape"
      ],
      "execution_count": 0,
      "outputs": [
        {
          "output_type": "execute_result",
          "data": {
            "text/plain": [
              "(3378389, 15)"
            ]
          },
          "metadata": {
            "tags": []
          },
          "execution_count": 64
        }
      ]
    },
    {
      "cell_type": "code",
      "metadata": {
        "colab_type": "code",
        "id": "oybtGc43f3rr",
        "colab": {}
      },
      "source": [
        "join['price'] = [float(i[1:]) if ',' not in i else float(''.join(i[1:].split(','))) for i in join['price']]"
      ],
      "execution_count": 0,
      "outputs": []
    },
    {
      "cell_type": "code",
      "metadata": {
        "colab_type": "code",
        "id": "97SezxLxoGHA",
        "outputId": "1da2fc43-962a-48ed-cd3b-b71c2f54164b",
        "colab": {
          "base_uri": "https://localhost:8080/",
          "height": 395
        }
      },
      "source": [
        "join.info()"
      ],
      "execution_count": 0,
      "outputs": [
        {
          "output_type": "stream",
          "text": [
            "<class 'pandas.core.frame.DataFrame'>\n",
            "Int64Index: 3378389 entries, 0 to 3394385\n",
            "Data columns (total 16 columns):\n",
            "listing_id                int64\n",
            "host_is_superhost         object\n",
            "neighbourhood_cleansed    object\n",
            "property_type             object\n",
            "room_type                 object\n",
            "accommodates              int64\n",
            "bathrooms                 float64\n",
            "bedrooms                  float64\n",
            "beds                      float64\n",
            "bed_type                  object\n",
            "instant_bookable          object\n",
            "cancellation_policy       object\n",
            "date                      datetime64[ns]\n",
            "available                 object\n",
            "price                     float64\n",
            "weekday                   int64\n",
            "dtypes: datetime64[ns](1), float64(4), int64(3), object(8)\n",
            "memory usage: 438.2+ MB\n"
          ],
          "name": "stdout"
        }
      ]
    },
    {
      "cell_type": "markdown",
      "metadata": {
        "id": "aDc1fZs2GXND",
        "colab_type": "text"
      },
      "source": [
        "## Data Modeling"
      ]
    },
    {
      "cell_type": "code",
      "metadata": {
        "id": "d6_c7YLndG0M",
        "colab_type": "code",
        "colab": {}
      },
      "source": [
        "#listing['price'] = [float(i[1:]) if ',' not in i else float(''.join(i[1:].split(','))) for i in listing['price']]"
      ],
      "execution_count": 0,
      "outputs": []
    },
    {
      "cell_type": "code",
      "metadata": {
        "id": "KuQzSk6sxgI-",
        "colab_type": "code",
        "colab": {}
      },
      "source": [
        "#listing_model.info()"
      ],
      "execution_count": 0,
      "outputs": []
    },
    {
      "cell_type": "code",
      "metadata": {
        "id": "rrih0me4ZKdz",
        "colab_type": "code",
        "colab": {}
      },
      "source": [
        "#listing.dropna(inplace=True)"
      ],
      "execution_count": 0,
      "outputs": []
    },
    {
      "cell_type": "code",
      "metadata": {
        "colab_type": "code",
        "id": "Q5KPKueNc5tU",
        "colab": {}
      },
      "source": [
        "X = join[[ 'neighbourhood_cleansed', 'room_type', 'bathrooms', 'bedrooms', 'beds']]"
      ],
      "execution_count": 0,
      "outputs": []
    },
    {
      "cell_type": "code",
      "metadata": {
        "colab_type": "code",
        "id": "qH_Gr9hfdhJh",
        "colab": {}
      },
      "source": [
        "y = join[['price']]"
      ],
      "execution_count": 0,
      "outputs": []
    },
    {
      "cell_type": "code",
      "metadata": {
        "colab_type": "code",
        "id": "dvOAKDld3tFc",
        "colab": {}
      },
      "source": [
        "#from sklearn import preprocessing\n",
        "#enc = preprocessing.OneHotEncoder()\n",
        "#enc.fit(join['room_type'].reshape(-1,1))"
      ],
      "execution_count": 0,
      "outputs": []
    },
    {
      "cell_type": "code",
      "metadata": {
        "colab_type": "code",
        "id": "U0To61_webV2",
        "colab": {}
      },
      "source": [
        "X = pd.get_dummies(X, drop_first = True)"
      ],
      "execution_count": 0,
      "outputs": []
    },
    {
      "cell_type": "code",
      "metadata": {
        "colab_type": "code",
        "id": "m8e47Ne5pVBO",
        "colab": {}
      },
      "source": [
        "X_train, X_test, y_train, y_test = train_test_split(X, y, test_size=0.2, random_state=42)"
      ],
      "execution_count": 0,
      "outputs": []
    },
    {
      "cell_type": "code",
      "metadata": {
        "id": "jpTqu6Y1elkt",
        "colab_type": "code",
        "colab": {}
      },
      "source": [
        "#from sklearn.ensemble import RandomForestRegressor\n",
        "#rf = RandomForestRegressor(random_state = 42)\n",
        "#from pprint import pprint\n",
        "# Look at parameters used by our current forest\n",
        "#print('Parameters currently in use:\\n')\n",
        "#pprint(rf.get_params())"
      ],
      "execution_count": 0,
      "outputs": []
    },
    {
      "cell_type": "code",
      "metadata": {
        "id": "umAOrNOWn-lo",
        "colab_type": "code",
        "colab": {}
      },
      "source": [
        "#from sklearn.model_selection import RandomizedSearchCV\n",
        "# Number of trees in random forest\n",
        "#n_estimators = [int(x) for x in np.linspace(start = 100, stop = 200, num = 2)]\n",
        "# Number of features to consider at every split\n",
        "#max_features = ['auto', 'sqrt']\n",
        "# Maximum number of levels in tree\n",
        "#max_depth = [int(x) for x in np.linspace(10, 40, num = 4)]\n",
        "#max_depth.append(None)\n",
        "# Minimum number of samples required to split a node\n",
        "#min_samples_split = [2, 5, 10]\n",
        "# Minimum number of samples required at each leaf node\n",
        "#min_samples_leaf = [1, 2, 4]\n",
        "# Method of selecting samples for training each tree\n",
        "#bootstrap = [True, False]\n",
        "# Create the random grid\n",
        "#random_grid = {'n_estimators': n_estimators,\n",
        "#               'max_features': max_features,\n",
        "#               'max_depth': max_depth,\n",
        "#               'min_samples_split': min_samples_split,\n",
        "#               'min_samples_leaf': min_samples_leaf,\n",
        "#               'bootstrap': bootstrap}\n",
        "#pprint(random_grid)"
      ],
      "execution_count": 0,
      "outputs": []
    },
    {
      "cell_type": "code",
      "metadata": {
        "id": "0KhX-Pl6oEQQ",
        "colab_type": "code",
        "colab": {}
      },
      "source": [
        "# Use the random grid to search for best hyperparameters\n",
        "# First create the base model to tune\n",
        "#rf = RandomForestRegressor()\n",
        "# Random search of parameters, using 3 fold cross validation, \n",
        "# search across 100 different combinations, and use all available cores\n",
        "#rf_random = RandomizedSearchCV(estimator = rf, param_distributions = random_grid, n_iter = 10, cv = 5, verbose=2, random_state=42)\n",
        "# Fit the random search model\n",
        "#rf_random.fit(X_train, y_train)"
      ],
      "execution_count": 0,
      "outputs": []
    },
    {
      "cell_type": "code",
      "metadata": {
        "id": "C-gUMgO0s4ab",
        "colab_type": "code",
        "outputId": "a98e49bd-cda6-4831-e47a-beb35256cdb6",
        "colab": {
          "base_uri": "https://localhost:8080/",
          "height": 35
        }
      },
      "source": [
        "#rf_random.predict(X_test)\n",
        "#rf_random.score(X_test, y_test)"
      ],
      "execution_count": 0,
      "outputs": [
        {
          "output_type": "execute_result",
          "data": {
            "text/plain": [
              "0.5632987844364247"
            ]
          },
          "metadata": {
            "tags": []
          },
          "execution_count": 233
        }
      ]
    },
    {
      "cell_type": "code",
      "metadata": {
        "colab_type": "code",
        "id": "MCzlhGIHpsPl",
        "outputId": "0d8579f0-bd98-488d-d5c3-4d53b8793f5b",
        "colab": {
          "base_uri": "https://localhost:8080/",
          "height": 127
        }
      },
      "source": [
        "RF = RandomForestRegressor()\n",
        "RF.fit(X_train, y_train)\n",
        "RF.predict(X_test)\n",
        "RF.score(X_test, y_test)"
      ],
      "execution_count": 0,
      "outputs": [
        {
          "output_type": "stream",
          "text": [
            "/usr/local/lib/python3.6/dist-packages/sklearn/ensemble/forest.py:246: FutureWarning: The default value of n_estimators will change from 10 in version 0.20 to 100 in 0.22.\n",
            "  \"10 in version 0.20 to 100 in 0.22.\", FutureWarning)\n",
            "/usr/local/lib/python3.6/dist-packages/ipykernel_launcher.py:2: DataConversionWarning: A column-vector y was passed when a 1d array was expected. Please change the shape of y to (n_samples,), for example using ravel().\n",
            "  \n"
          ],
          "name": "stderr"
        },
        {
          "output_type": "execute_result",
          "data": {
            "text/plain": [
              "0.29370832744912345"
            ]
          },
          "metadata": {
            "tags": []
          },
          "execution_count": 160
        }
      ]
    },
    {
      "cell_type": "code",
      "metadata": {
        "colab_type": "code",
        "id": "eJMSN61x0W_4",
        "colab": {}
      },
      "source": [
        "#sns.lmplot(x='bathrooms', y='price', data=join)\n",
        "#plt.show()"
      ],
      "execution_count": 0,
      "outputs": []
    },
    {
      "cell_type": "code",
      "metadata": {
        "colab_type": "code",
        "id": "CfsXw-NS95xH",
        "colab": {}
      },
      "source": [
        "#sns.lmplot(x='accommodates', y='price', data=join)\n",
        "#plt.show()\n"
      ],
      "execution_count": 0,
      "outputs": []
    },
    {
      "cell_type": "code",
      "metadata": {
        "colab_type": "code",
        "id": "vFf8fyoz-PVN",
        "colab": {}
      },
      "source": [
        "#sns.lmplot(x='cancellation_policy', y='price', data=join)\n",
        "#plt.show()\n",
        "\n"
      ],
      "execution_count": 0,
      "outputs": []
    },
    {
      "cell_type": "code",
      "metadata": {
        "colab_type": "code",
        "id": "CrTTkZ7a-UPB",
        "outputId": "a3058367-d1c5-4630-8497-6a3d9924b532",
        "colab": {
          "base_uri": "https://localhost:8080/",
          "height": 269
        }
      },
      "source": [
        "#print(RF.feature_importances_)"
      ],
      "execution_count": 0,
      "outputs": [
        {
          "output_type": "stream",
          "text": [
            "[4.05851221e-02 1.01593493e-04 3.13036146e-01 5.63673799e-06\n",
            " 6.01201304e-02 1.53549315e-06 3.60814663e-05 1.76975639e-06\n",
            " 1.05575232e-01 6.06283379e-07 2.79694613e-06 2.54364919e-06\n",
            " 4.73602788e-06 1.18626908e-06 7.83307412e-06 8.79760329e-07\n",
            " 1.64657493e-05 1.44522043e-06 3.68204367e-06 1.32392615e-06\n",
            " 5.97006283e-07 2.63505359e-06 2.73587139e-05 7.95593607e-06\n",
            " 4.01469403e-02 4.51860450e-07 3.84795660e-08 3.83401561e-06\n",
            " 1.11611960e-11 6.37924726e-07 9.13536009e-09 9.36039653e-11\n",
            " 4.11852521e-07 4.69712466e-08 3.74114772e-10 1.00483451e-07\n",
            " 2.75427293e-06 8.78203333e-08 4.60773597e-06 1.66304599e-09\n",
            " 3.51670480e-07 1.10920256e-12 3.51693208e-02 5.21623635e-09\n",
            " 3.28342536e-11 9.45893664e-07 3.63798994e-08 2.26698327e-08\n",
            " 1.64505777e-04 5.96073087e-03 4.21131135e-08 2.54888291e-08\n",
            " 3.78970127e-07 3.33183757e-01 6.58146611e-02]\n"
          ],
          "name": "stdout"
        }
      ]
    },
    {
      "cell_type": "code",
      "metadata": {
        "colab_type": "code",
        "id": "kozpRGKR7QYd",
        "colab": {}
      },
      "source": [
        "importances =RF.feature_importances_"
      ],
      "execution_count": 0,
      "outputs": []
    },
    {
      "cell_type": "code",
      "metadata": {
        "colab_type": "code",
        "id": "VK4-GnWd7vPT",
        "outputId": "1f45c520-3327-4b21-8358-f91955b97316",
        "colab": {
          "base_uri": "https://localhost:8080/",
          "height": 467
        }
      },
      "source": [
        "print(\"Feature importance ranking by Random Forest Model:\")\n",
        "for k,v in sorted(zip(map(lambda x: round(x, 4), importances), X.columns), reverse=True):\n",
        "    print (v + \": \" + str(k))"
      ],
      "execution_count": 0,
      "outputs": [
        {
          "output_type": "stream",
          "text": [
            "Feature importance ranking by Random Forest Model:\n",
            "beds: 0.5955\n",
            "neighbourhood_cleansed_EntrepÃ´t: 0.2981\n",
            "bathrooms: 0.0886\n",
            "room_type_Shared room: 0.0169\n",
            "room_type_Private room: 0.0005\n",
            "bedrooms: 0.0002\n",
            "neighbourhood_cleansed_Vaugirard: 0.0001\n",
            "neighbourhood_cleansed_Ã‰lysÃ©e: 0.0\n",
            "neighbourhood_cleansed_Temple: 0.0\n",
            "neighbourhood_cleansed_Reuilly: 0.0\n",
            "neighbourhood_cleansed_Popincourt: 0.0\n",
            "neighbourhood_cleansed_Passy: 0.0\n",
            "neighbourhood_cleansed_PanthÃ©on: 0.0\n",
            "neighbourhood_cleansed_Palais-Bourbon: 0.0\n",
            "neighbourhood_cleansed_OpÃ©ra: 0.0\n",
            "neighbourhood_cleansed_Observatoire: 0.0\n",
            "neighbourhood_cleansed_MÃ©nilmontant: 0.0\n",
            "neighbourhood_cleansed_Luxembourg: 0.0\n",
            "neighbourhood_cleansed_Louvre: 0.0\n",
            "neighbourhood_cleansed_HÃ´tel-de-Ville: 0.0\n",
            "neighbourhood_cleansed_Gobelins: 0.0\n",
            "neighbourhood_cleansed_Buttes-Montmartre: 0.0\n",
            "neighbourhood_cleansed_Buttes-Chaumont: 0.0\n",
            "neighbourhood_cleansed_Bourse: 0.0\n"
          ],
          "name": "stdout"
        }
      ]
    },
    {
      "cell_type": "code",
      "metadata": {
        "id": "oYAxIrbx0yPW",
        "colab_type": "code",
        "colab": {}
      },
      "source": [
        "indices = np.argsort(importances)[::-1]\n",
        "columns = X_train.columns.values[indices]\n",
        "values = importances[indices]\n",
        "\n",
        "dict = {}\n",
        "for i in range(len(columns)):\n",
        "  dict[columns[i]] = values[i]\n",
        "\n",
        "property_type = 0\n",
        "#host_is_superhost = 0\n",
        "bed_type = 0\n",
        "room_type = 0\n",
        "#cancellation_policy = 0\n",
        "neighbourhood_cleansed = 0\n",
        "\n",
        "for i in dict:\n",
        "#  if 'property_type' in i:\n",
        "#    property_type += dict[i]\n",
        "#  elif 'host_is_superhost' in i:\n",
        "#    host_is_superhost += dict[i]\n",
        "#  elif 'bed_type' in i:\n",
        "#    bed_type += dict[i]\n",
        "  if 'room_type' in i:\n",
        "    room_type += dict[i]\n",
        "#  elif 'cancellation_policy' in i:\n",
        "#    cancellation_policy += dict[i]\n",
        "  elif 'neighbourhood_cleansed' in i:\n",
        "    neighbourhood_cleansed += dict[i]\n",
        "\n",
        "    \n",
        "#dict['property_type'] = property_type\n",
        "#dict['host_is_superhost'] = host_is_superhost\n",
        "#dict['bed_type'] = bed_type\n",
        "dict['room_type'] = room_type\n",
        "#dict['cancellation_policy'] = cancellation_policy\n",
        "dict['neighbourhood_cleansed'] = neighbourhood_cleansed\n",
        "new_columns = ['bathrooms', 'beds','bedrooms']\n",
        "new_values = [dict['bathrooms'],dict['beds'],dict['bedrooms']]\n",
        "\n",
        "\n",
        "new_columns = new_columns + ['room_type','neighbourhood_cleansed']\n",
        "new_values = new_values + [dict['room_type'],dict['neighbourhood_cleansed']]"
      ],
      "execution_count": 0,
      "outputs": []
    },
    {
      "cell_type": "markdown",
      "metadata": {
        "id": "hO7v29VyGgz_",
        "colab_type": "text"
      },
      "source": [
        "## Evaluate the Results"
      ]
    },
    {
      "cell_type": "code",
      "metadata": {
        "id": "ljqWGcHJ0_B7",
        "colab_type": "code",
        "outputId": "edf17475-d53b-44b1-eb9b-a0a4f91162ed",
        "colab": {
          "base_uri": "https://localhost:8080/",
          "height": 35
        }
      },
      "source": [
        "new_columns"
      ],
      "execution_count": 0,
      "outputs": [
        {
          "output_type": "execute_result",
          "data": {
            "text/plain": [
              "['bathrooms', 'beds', 'bedrooms', 'room_type', 'neighbourhood_cleansed']"
            ]
          },
          "metadata": {
            "tags": []
          },
          "execution_count": 165
        }
      ]
    },
    {
      "cell_type": "code",
      "metadata": {
        "id": "ACLypKG91B95",
        "colab_type": "code",
        "outputId": "32d9ba83-d9e6-4417-d6e5-89be396633bd",
        "colab": {
          "base_uri": "https://localhost:8080/",
          "height": 55
        }
      },
      "source": [
        "new_dict = {}\n",
        "for i in range(len(new_columns)):\n",
        "  new_dict[new_columns[i]] = new_values[i]\n",
        "\n",
        "new_dict = sorted(new_dict.items(),key = lambda k:k[1],reverse=True)\n",
        "print(new_dict)"
      ],
      "execution_count": 0,
      "outputs": [
        {
          "output_type": "stream",
          "text": [
            "[('beds', 0.5954798530249183), ('neighbourhood_cleansed', 0.29836816308123065), ('bathrooms', 0.08862066113397947), ('room_type', 0.017371323476213438), ('bedrooms', 0.0001599992836581765)]\n"
          ],
          "name": "stdout"
        }
      ]
    },
    {
      "cell_type": "code",
      "metadata": {
        "id": "2_OUkvQj1D51",
        "colab_type": "code",
        "outputId": "2f767866-b114-4ca3-f033-a48faba320ef",
        "colab": {
          "base_uri": "https://localhost:8080/",
          "height": 202
        }
      },
      "source": [
        "new_df = pd.DataFrame()\n",
        "a,b = [],[]\n",
        "for i in new_dict:\n",
        "  a.append(i[0])\n",
        "  b.append(i[1])\n",
        "new_df['Feature'] = a\n",
        "new_df['Weight'] = b\n",
        "new_df.head(10)"
      ],
      "execution_count": 0,
      "outputs": [
        {
          "output_type": "execute_result",
          "data": {
            "text/html": [
              "<div>\n",
              "<style scoped>\n",
              "    .dataframe tbody tr th:only-of-type {\n",
              "        vertical-align: middle;\n",
              "    }\n",
              "\n",
              "    .dataframe tbody tr th {\n",
              "        vertical-align: top;\n",
              "    }\n",
              "\n",
              "    .dataframe thead th {\n",
              "        text-align: right;\n",
              "    }\n",
              "</style>\n",
              "<table border=\"1\" class=\"dataframe\">\n",
              "  <thead>\n",
              "    <tr style=\"text-align: right;\">\n",
              "      <th></th>\n",
              "      <th>Feature</th>\n",
              "      <th>Weight</th>\n",
              "    </tr>\n",
              "  </thead>\n",
              "  <tbody>\n",
              "    <tr>\n",
              "      <th>0</th>\n",
              "      <td>beds</td>\n",
              "      <td>0.595480</td>\n",
              "    </tr>\n",
              "    <tr>\n",
              "      <th>1</th>\n",
              "      <td>neighbourhood_cleansed</td>\n",
              "      <td>0.298368</td>\n",
              "    </tr>\n",
              "    <tr>\n",
              "      <th>2</th>\n",
              "      <td>bathrooms</td>\n",
              "      <td>0.088621</td>\n",
              "    </tr>\n",
              "    <tr>\n",
              "      <th>3</th>\n",
              "      <td>room_type</td>\n",
              "      <td>0.017371</td>\n",
              "    </tr>\n",
              "    <tr>\n",
              "      <th>4</th>\n",
              "      <td>bedrooms</td>\n",
              "      <td>0.000160</td>\n",
              "    </tr>\n",
              "  </tbody>\n",
              "</table>\n",
              "</div>"
            ],
            "text/plain": [
              "                  Feature    Weight\n",
              "0                    beds  0.595480\n",
              "1  neighbourhood_cleansed  0.298368\n",
              "2               bathrooms  0.088621\n",
              "3               room_type  0.017371\n",
              "4                bedrooms  0.000160"
            ]
          },
          "metadata": {
            "tags": []
          },
          "execution_count": 167
        }
      ]
    },
    {
      "cell_type": "code",
      "metadata": {
        "id": "yusniOrq1GRM",
        "colab_type": "code",
        "outputId": "3d7af293-9ebb-4677-bf4d-af35c6c9f3fa",
        "colab": {
          "base_uri": "https://localhost:8080/",
          "height": 753
        }
      },
      "source": [
        "import seaborn as sns\n",
        "import matplotlib.pyplot as pl\n",
        "#fig = pl.figure(figsize = (20,5))\n",
        "fig, ax = pl.subplots(figsize=(20,12))\n",
        "ax = fig.gca()\n",
        "sns.barplot(x='Feature',y='Weight',data=new_df,color='sandybrown')\n",
        "pl.title(\"Normalized Weights for First Eight Most Predictive Features\", fontsize = 16)\n",
        "\n",
        "\n",
        "labels = [round(i,3) for i in new_df['Weight']]\n",
        "rects = ax.patches\n",
        "for rect, label in zip(rects, labels):\n",
        "    height = rect.get_height()\n",
        "    ax.text(rect.get_x()-0.38 + rect.get_width(), height, label,\n",
        "            ha='center', va='bottom')"
      ],
      "execution_count": 0,
      "outputs": [
        {
          "output_type": "display_data",
          "data": {
            "image/png": "[encoded data removed]",
            "text/plain": [
              "<Figure size 1440x864 with 1 Axes>"
            ]
          },
          "metadata": {
            "tags": []
          }
        }
      ]
    },
    {
      "cell_type": "code",
      "metadata": {
        "id": "PBGUV3_vBpXv",
        "colab_type": "code",
        "colab": {}
      },
      "source": [
        "sns.distplot(join['beds'])"
      ],
      "execution_count": 0,
      "outputs": []
    },
    {
      "cell_type": "code",
      "metadata": {
        "id": "k9U5-90s_Swj",
        "colab_type": "code",
        "colab": {}
      },
      "source": [
        "import matplotlib.pyplot as pl\n",
        "\n",
        "def feature_plot(importances, X_train, y_train):\n",
        "    \n",
        "    # Display the five most important features\n",
        "    indices = np.argsort(importances)[::-1]\n",
        "    columns = X_train.columns.values[indices[:10]]\n",
        "    values = importances[indices][:10]\n",
        "\n",
        "    # Creat the plot\n",
        "    fig = pl.figure(figsize = (20,5))\n",
        "    pl.title(\"Normalized Weights for First Five Most Predictive Features\", fontsize = 16)\n",
        "    pl.bar(np.arange(10), values, width = 0.6, align=\"center\", color = '#00A000', \\\n",
        "          label = \"Feature Weight\")\n",
        "    pl.bar(np.arange(10) - 0.3, np.cumsum(values), width = 0.2, align = \"center\", color = '#00A0A0', \\\n",
        "          label = \"Cumulative Feature Weight\")\n",
        "    pl.xticks(np.arange(10), columns)\n",
        "    pl.xlim((-0.5, 4.5))\n",
        "    pl.ylabel(\"Weight\", fontsize = 12)\n",
        "    pl.xlabel(\"Feature\", fontsize = 12)\n",
        "    \n",
        "    pl.legend(loc = 'upper center')\n",
        "    pl.tight_layout()\n",
        "    pl.show()  "
      ],
      "execution_count": 0,
      "outputs": []
    },
    {
      "cell_type": "code",
      "metadata": {
        "id": "klcgJNLG_VVX",
        "colab_type": "code",
        "colab": {}
      },
      "source": [
        "#feature_plot(importances,X_train, y_train)"
      ],
      "execution_count": 0,
      "outputs": []
    },
    {
      "cell_type": "code",
      "metadata": {
        "colab_type": "code",
        "id": "2zwCnTtcMYsN",
        "colab": {}
      },
      "source": [
        "# from google.colab import files\n",
        "# join.to_csv('join.csv', index = False)\n",
        "# files.download('join.csv')"
      ],
      "execution_count": 0,
      "outputs": []
    },
    {
      "cell_type": "code",
      "metadata": {
        "colab_type": "code",
        "id": "sRHk1y6NeB38",
        "colab": {}
      },
      "source": [
        "join_corr = join.drop(columns = 'listing_id')"
      ],
      "execution_count": 0,
      "outputs": []
    },
    {
      "cell_type": "code",
      "metadata": {
        "colab_type": "code",
        "id": "jvCx6XJyfALF",
        "outputId": "bac57484-8b33-458e-e892-860533492f0e",
        "colab": {
          "base_uri": "https://localhost:8080/",
          "height": 287
        }
      },
      "source": [
        "# calculate the correlation matrix\n",
        "corr = join_corr.corr()\n",
        "\n",
        "# plot the heatmap\n",
        "sns.heatmap(corr, \n",
        "        xticklabels=corr.columns,\n",
        "        yticklabels=corr.columns)"
      ],
      "execution_count": 0,
      "outputs": [
        {
          "output_type": "execute_result",
          "data": {
            "text/plain": [
              "<matplotlib.axes._subplots.AxesSubplot at 0x7f2f46e5ba58>"
            ]
          },
          "metadata": {
            "tags": []
          },
          "execution_count": 62
        },
        {
          "output_type": "display_data",
          "data": {
            "image/png": "[encoded data removed]",
            "text/plain": [
              "<Figure size 432x288 with 2 Axes>"
            ]
          },
          "metadata": {
            "tags": []
          }
        }
      ]
    },
    {
      "cell_type": "code",
      "metadata": {
        "colab_type": "code",
        "id": "KndmD82EiAc3",
        "outputId": "48f5ce1e-d0f8-41b4-c450-c897028793c0",
        "colab": {
          "base_uri": "https://localhost:8080/",
          "height": 558
        }
      },
      "source": [
        "\n",
        "\n",
        "# Generate a mask for the upper triangle\n",
        "mask = np.zeros_like(corr, dtype=np.bool)\n",
        "mask[np.triu_indices_from(mask)] = True\n",
        "\n",
        "# Set up the matplotlib figure\n",
        "f, ax = plt.subplots(figsize=(11, 9))\n",
        "\n",
        "# Generate a custom diverging colormap\n",
        "cmap = sns.diverging_palette(220, 10, as_cmap=True)\n",
        "\n",
        "# Draw the heatmap with the mask and correct aspect ratio\n",
        "sns.heatmap(corr, mask=mask, cmap='viridis', vmax=.8, center=0, square=True, linewidths=.5, cbar_kws={\"shrink\": .5})\n"
      ],
      "execution_count": 0,
      "outputs": [
        {
          "output_type": "execute_result",
          "data": {
            "text/plain": [
              "<matplotlib.axes._subplots.AxesSubplot at 0x7f594ad90908>"
            ]
          },
          "metadata": {
            "tags": []
          },
          "execution_count": 80
        },
        {
          "output_type": "display_data",
          "data": {
            "image/png": "[encoded data removed]",
            "text/plain": [
              "<Figure size 792x648 with 2 Axes>"
            ]
          },
          "metadata": {
            "tags": []
          }
        }
      ]
    },
    {
      "cell_type": "code",
      "metadata": {
        "colab_type": "code",
        "id": "UAlKxltzjNqi",
        "outputId": "142cfe3a-2d7e-4950-8591-502ec2cf2e58",
        "colab": {
          "base_uri": "https://localhost:8080/",
          "height": 159
        }
      },
      "source": [
        "cmap = cmap=sns.diverging_palette(5, 250, as_cmap=True)\n",
        "\n",
        "def magnify():\n",
        "    return [dict(selector=\"th\",\n",
        "                 props=[(\"font-size\", \"7pt\")]),\n",
        "            dict(selector=\"td\",\n",
        "                 props=[('padding', \"0em 0em\")]),\n",
        "            dict(selector=\"th:hover\",\n",
        "                 props=[(\"font-size\", \"12pt\")]),\n",
        "            dict(selector=\"tr:hover td:hover\",\n",
        "                 props=[('max-width', '200px'),\n",
        "                        ('font-size', '12pt')])\n",
        "]\n",
        "\n",
        "corr.style.background_gradient(cmap, axis=1)\\\n",
        "    .set_properties(**{'max-width': '80px', 'font-size': '10pt'})\\\n",
        "    .set_caption(\"Correlation Table\")\\\n",
        "    .set_precision(2)\\\n",
        "    .set_table_styles(magnify())"
      ],
      "execution_count": 0,
      "outputs": [
        {
          "output_type": "execute_result",
          "data": {
            "text/html": [
              "<style  type=\"text/css\" >\n",
              "    #T_7f5002d0_6b02_11e9_b5ef_0242ac1c0002 th {\n",
              "          font-size: 7pt;\n",
              "    }    #T_7f5002d0_6b02_11e9_b5ef_0242ac1c0002 td {\n",
              "          padding: 0em 0em;\n",
              "    }    #T_7f5002d0_6b02_11e9_b5ef_0242ac1c0002 th:hover {\n",
              "          font-size: 12pt;\n",
              "    }    #T_7f5002d0_6b02_11e9_b5ef_0242ac1c0002 tr:hover td:hover {\n",
              "          max-width: 200px;\n",
              "          font-size: 12pt;\n",
              "    }    #T_7f5002d0_6b02_11e9_b5ef_0242ac1c0002row0_col0 {\n",
              "            background-color:  #4479bb;\n",
              "            color:  #000000;\n",
              "            max-width:  80px;\n",
              "            font-size:  10pt;\n",
              "        }    #T_7f5002d0_6b02_11e9_b5ef_0242ac1c0002row0_col1 {\n",
              "            background-color:  #c5d5ea;\n",
              "            color:  #000000;\n",
              "            max-width:  80px;\n",
              "            font-size:  10pt;\n",
              "        }    #T_7f5002d0_6b02_11e9_b5ef_0242ac1c0002row0_col2 {\n",
              "            background-color:  #98b5d9;\n",
              "            color:  #000000;\n",
              "            max-width:  80px;\n",
              "            font-size:  10pt;\n",
              "        }    #T_7f5002d0_6b02_11e9_b5ef_0242ac1c0002row0_col3 {\n",
              "            background-color:  #94b2d8;\n",
              "            color:  #000000;\n",
              "            max-width:  80px;\n",
              "            font-size:  10pt;\n",
              "        }    #T_7f5002d0_6b02_11e9_b5ef_0242ac1c0002row0_col4 {\n",
              "            background-color:  #dae5f2;\n",
              "            color:  #000000;\n",
              "            max-width:  80px;\n",
              "            font-size:  10pt;\n",
              "        }    #T_7f5002d0_6b02_11e9_b5ef_0242ac1c0002row0_col5 {\n",
              "            background-color:  #d73c5b;\n",
              "            color:  #f1f1f1;\n",
              "            max-width:  80px;\n",
              "            font-size:  10pt;\n",
              "        }    #T_7f5002d0_6b02_11e9_b5ef_0242ac1c0002row1_col0 {\n",
              "            background-color:  #c5d5ea;\n",
              "            color:  #000000;\n",
              "            max-width:  80px;\n",
              "            font-size:  10pt;\n",
              "        }    #T_7f5002d0_6b02_11e9_b5ef_0242ac1c0002row1_col1 {\n",
              "            background-color:  #4479bb;\n",
              "            color:  #000000;\n",
              "            max-width:  80px;\n",
              "            font-size:  10pt;\n",
              "        }    #T_7f5002d0_6b02_11e9_b5ef_0242ac1c0002row1_col2 {\n",
              "            background-color:  #b2c8e3;\n",
              "            color:  #000000;\n",
              "            max-width:  80px;\n",
              "            font-size:  10pt;\n",
              "        }    #T_7f5002d0_6b02_11e9_b5ef_0242ac1c0002row1_col3 {\n",
              "            background-color:  #d4e0ef;\n",
              "            color:  #000000;\n",
              "            max-width:  80px;\n",
              "            font-size:  10pt;\n",
              "        }    #T_7f5002d0_6b02_11e9_b5ef_0242ac1c0002row1_col4 {\n",
              "            background-color:  #e6edf6;\n",
              "            color:  #000000;\n",
              "            max-width:  80px;\n",
              "            font-size:  10pt;\n",
              "        }    #T_7f5002d0_6b02_11e9_b5ef_0242ac1c0002row1_col5 {\n",
              "            background-color:  #d73c5b;\n",
              "            color:  #f1f1f1;\n",
              "            max-width:  80px;\n",
              "            font-size:  10pt;\n",
              "        }    #T_7f5002d0_6b02_11e9_b5ef_0242ac1c0002row2_col0 {\n",
              "            background-color:  #98b5d9;\n",
              "            color:  #000000;\n",
              "            max-width:  80px;\n",
              "            font-size:  10pt;\n",
              "        }    #T_7f5002d0_6b02_11e9_b5ef_0242ac1c0002row2_col1 {\n",
              "            background-color:  #b2c8e3;\n",
              "            color:  #000000;\n",
              "            max-width:  80px;\n",
              "            font-size:  10pt;\n",
              "        }    #T_7f5002d0_6b02_11e9_b5ef_0242ac1c0002row2_col2 {\n",
              "            background-color:  #4479bb;\n",
              "            color:  #000000;\n",
              "            max-width:  80px;\n",
              "            font-size:  10pt;\n",
              "        }    #T_7f5002d0_6b02_11e9_b5ef_0242ac1c0002row2_col3 {\n",
              "            background-color:  #a0bbdc;\n",
              "            color:  #000000;\n",
              "            max-width:  80px;\n",
              "            font-size:  10pt;\n",
              "        }    #T_7f5002d0_6b02_11e9_b5ef_0242ac1c0002row2_col4 {\n",
              "            background-color:  #e0e9f4;\n",
              "            color:  #000000;\n",
              "            max-width:  80px;\n",
              "            font-size:  10pt;\n",
              "        }    #T_7f5002d0_6b02_11e9_b5ef_0242ac1c0002row2_col5 {\n",
              "            background-color:  #d73c5b;\n",
              "            color:  #f1f1f1;\n",
              "            max-width:  80px;\n",
              "            font-size:  10pt;\n",
              "        }    #T_7f5002d0_6b02_11e9_b5ef_0242ac1c0002row3_col0 {\n",
              "            background-color:  #94b2d8;\n",
              "            color:  #000000;\n",
              "            max-width:  80px;\n",
              "            font-size:  10pt;\n",
              "        }    #T_7f5002d0_6b02_11e9_b5ef_0242ac1c0002row3_col1 {\n",
              "            background-color:  #d4e0ef;\n",
              "            color:  #000000;\n",
              "            max-width:  80px;\n",
              "            font-size:  10pt;\n",
              "        }    #T_7f5002d0_6b02_11e9_b5ef_0242ac1c0002row3_col2 {\n",
              "            background-color:  #a0bbdc;\n",
              "            color:  #000000;\n",
              "            max-width:  80px;\n",
              "            font-size:  10pt;\n",
              "        }    #T_7f5002d0_6b02_11e9_b5ef_0242ac1c0002row3_col3 {\n",
              "            background-color:  #4479bb;\n",
              "            color:  #000000;\n",
              "            max-width:  80px;\n",
              "            font-size:  10pt;\n",
              "        }    #T_7f5002d0_6b02_11e9_b5ef_0242ac1c0002row3_col4 {\n",
              "            background-color:  #f2f2f2;\n",
              "            color:  #000000;\n",
              "            max-width:  80px;\n",
              "            font-size:  10pt;\n",
              "        }    #T_7f5002d0_6b02_11e9_b5ef_0242ac1c0002row3_col5 {\n",
              "            background-color:  #d73c5b;\n",
              "            color:  #f1f1f1;\n",
              "            max-width:  80px;\n",
              "            font-size:  10pt;\n",
              "        }    #T_7f5002d0_6b02_11e9_b5ef_0242ac1c0002row4_col0 {\n",
              "            background-color:  #dae5f2;\n",
              "            color:  #000000;\n",
              "            max-width:  80px;\n",
              "            font-size:  10pt;\n",
              "        }    #T_7f5002d0_6b02_11e9_b5ef_0242ac1c0002row4_col1 {\n",
              "            background-color:  #e6edf6;\n",
              "            color:  #000000;\n",
              "            max-width:  80px;\n",
              "            font-size:  10pt;\n",
              "        }    #T_7f5002d0_6b02_11e9_b5ef_0242ac1c0002row4_col2 {\n",
              "            background-color:  #e0e9f4;\n",
              "            color:  #000000;\n",
              "            max-width:  80px;\n",
              "            font-size:  10pt;\n",
              "        }    #T_7f5002d0_6b02_11e9_b5ef_0242ac1c0002row4_col3 {\n",
              "            background-color:  #f2f2f2;\n",
              "            color:  #000000;\n",
              "            max-width:  80px;\n",
              "            font-size:  10pt;\n",
              "        }    #T_7f5002d0_6b02_11e9_b5ef_0242ac1c0002row4_col4 {\n",
              "            background-color:  #4479bb;\n",
              "            color:  #000000;\n",
              "            max-width:  80px;\n",
              "            font-size:  10pt;\n",
              "        }    #T_7f5002d0_6b02_11e9_b5ef_0242ac1c0002row4_col5 {\n",
              "            background-color:  #d73c5b;\n",
              "            color:  #f1f1f1;\n",
              "            max-width:  80px;\n",
              "            font-size:  10pt;\n",
              "        }    #T_7f5002d0_6b02_11e9_b5ef_0242ac1c0002row5_col0 {\n",
              "            background-color:  #d73c5b;\n",
              "            color:  #f1f1f1;\n",
              "            max-width:  80px;\n",
              "            font-size:  10pt;\n",
              "        }    #T_7f5002d0_6b02_11e9_b5ef_0242ac1c0002row5_col1 {\n",
              "            background-color:  #d73c5b;\n",
              "            color:  #f1f1f1;\n",
              "            max-width:  80px;\n",
              "            font-size:  10pt;\n",
              "        }    #T_7f5002d0_6b02_11e9_b5ef_0242ac1c0002row5_col2 {\n",
              "            background-color:  #d73c5b;\n",
              "            color:  #f1f1f1;\n",
              "            max-width:  80px;\n",
              "            font-size:  10pt;\n",
              "        }    #T_7f5002d0_6b02_11e9_b5ef_0242ac1c0002row5_col3 {\n",
              "            background-color:  #d73c5b;\n",
              "            color:  #f1f1f1;\n",
              "            max-width:  80px;\n",
              "            font-size:  10pt;\n",
              "        }    #T_7f5002d0_6b02_11e9_b5ef_0242ac1c0002row5_col4 {\n",
              "            background-color:  #d73c5b;\n",
              "            color:  #f1f1f1;\n",
              "            max-width:  80px;\n",
              "            font-size:  10pt;\n",
              "        }    #T_7f5002d0_6b02_11e9_b5ef_0242ac1c0002row5_col5 {\n",
              "            background-color:  #4479bb;\n",
              "            color:  #000000;\n",
              "            max-width:  80px;\n",
              "            font-size:  10pt;\n",
              "        }</style><table id=\"T_7f5002d0_6b02_11e9_b5ef_0242ac1c0002\" ><caption>Correlation Table</caption><thead>    <tr>        <th class=\"blank level0\" ></th>        <th class=\"col_heading level0 col0\" >accommodates</th>        <th class=\"col_heading level0 col1\" >bathrooms</th>        <th class=\"col_heading level0 col2\" >bedrooms</th>        <th class=\"col_heading level0 col3\" >beds</th>        <th class=\"col_heading level0 col4\" >price</th>        <th class=\"col_heading level0 col5\" >weekday</th>    </tr></thead><tbody>\n",
              "                <tr>\n",
              "                        <th id=\"T_7f5002d0_6b02_11e9_b5ef_0242ac1c0002level0_row0\" class=\"row_heading level0 row0\" >accommodates</th>\n",
              "                        <td id=\"T_7f5002d0_6b02_11e9_b5ef_0242ac1c0002row0_col0\" class=\"data row0 col0\" >1</td>\n",
              "                        <td id=\"T_7f5002d0_6b02_11e9_b5ef_0242ac1c0002row0_col1\" class=\"data row0 col1\" >0.63</td>\n",
              "                        <td id=\"T_7f5002d0_6b02_11e9_b5ef_0242ac1c0002row0_col2\" class=\"data row0 col2\" >0.76</td>\n",
              "                        <td id=\"T_7f5002d0_6b02_11e9_b5ef_0242ac1c0002row0_col3\" class=\"data row0 col3\" >0.77</td>\n",
              "                        <td id=\"T_7f5002d0_6b02_11e9_b5ef_0242ac1c0002row0_col4\" class=\"data row0 col4\" >0.57</td>\n",
              "                        <td id=\"T_7f5002d0_6b02_11e9_b5ef_0242ac1c0002row0_col5\" class=\"data row0 col5\" >-0.0019</td>\n",
              "            </tr>\n",
              "            <tr>\n",
              "                        <th id=\"T_7f5002d0_6b02_11e9_b5ef_0242ac1c0002level0_row1\" class=\"row_heading level0 row1\" >bathrooms</th>\n",
              "                        <td id=\"T_7f5002d0_6b02_11e9_b5ef_0242ac1c0002row1_col0\" class=\"data row1 col0\" >0.63</td>\n",
              "                        <td id=\"T_7f5002d0_6b02_11e9_b5ef_0242ac1c0002row1_col1\" class=\"data row1 col1\" >1</td>\n",
              "                        <td id=\"T_7f5002d0_6b02_11e9_b5ef_0242ac1c0002row1_col2\" class=\"data row1 col2\" >0.68</td>\n",
              "                        <td id=\"T_7f5002d0_6b02_11e9_b5ef_0242ac1c0002row1_col3\" class=\"data row1 col3\" >0.59</td>\n",
              "                        <td id=\"T_7f5002d0_6b02_11e9_b5ef_0242ac1c0002row1_col4\" class=\"data row1 col4\" >0.54</td>\n",
              "                        <td id=\"T_7f5002d0_6b02_11e9_b5ef_0242ac1c0002row1_col5\" class=\"data row1 col5\" >-0.0022</td>\n",
              "            </tr>\n",
              "            <tr>\n",
              "                        <th id=\"T_7f5002d0_6b02_11e9_b5ef_0242ac1c0002level0_row2\" class=\"row_heading level0 row2\" >bedrooms</th>\n",
              "                        <td id=\"T_7f5002d0_6b02_11e9_b5ef_0242ac1c0002row2_col0\" class=\"data row2 col0\" >0.76</td>\n",
              "                        <td id=\"T_7f5002d0_6b02_11e9_b5ef_0242ac1c0002row2_col1\" class=\"data row2 col1\" >0.68</td>\n",
              "                        <td id=\"T_7f5002d0_6b02_11e9_b5ef_0242ac1c0002row2_col2\" class=\"data row2 col2\" >1</td>\n",
              "                        <td id=\"T_7f5002d0_6b02_11e9_b5ef_0242ac1c0002row2_col3\" class=\"data row2 col3\" >0.73</td>\n",
              "                        <td id=\"T_7f5002d0_6b02_11e9_b5ef_0242ac1c0002row2_col4\" class=\"data row2 col4\" >0.56</td>\n",
              "                        <td id=\"T_7f5002d0_6b02_11e9_b5ef_0242ac1c0002row2_col5\" class=\"data row2 col5\" >-0.0042</td>\n",
              "            </tr>\n",
              "            <tr>\n",
              "                        <th id=\"T_7f5002d0_6b02_11e9_b5ef_0242ac1c0002level0_row3\" class=\"row_heading level0 row3\" >beds</th>\n",
              "                        <td id=\"T_7f5002d0_6b02_11e9_b5ef_0242ac1c0002row3_col0\" class=\"data row3 col0\" >0.77</td>\n",
              "                        <td id=\"T_7f5002d0_6b02_11e9_b5ef_0242ac1c0002row3_col1\" class=\"data row3 col1\" >0.59</td>\n",
              "                        <td id=\"T_7f5002d0_6b02_11e9_b5ef_0242ac1c0002row3_col2\" class=\"data row3 col2\" >0.73</td>\n",
              "                        <td id=\"T_7f5002d0_6b02_11e9_b5ef_0242ac1c0002row3_col3\" class=\"data row3 col3\" >1</td>\n",
              "                        <td id=\"T_7f5002d0_6b02_11e9_b5ef_0242ac1c0002row3_col4\" class=\"data row3 col4\" >0.48</td>\n",
              "                        <td id=\"T_7f5002d0_6b02_11e9_b5ef_0242ac1c0002row3_col5\" class=\"data row3 col5\" >-0.0048</td>\n",
              "            </tr>\n",
              "            <tr>\n",
              "                        <th id=\"T_7f5002d0_6b02_11e9_b5ef_0242ac1c0002level0_row4\" class=\"row_heading level0 row4\" >price</th>\n",
              "                        <td id=\"T_7f5002d0_6b02_11e9_b5ef_0242ac1c0002row4_col0\" class=\"data row4 col0\" >0.57</td>\n",
              "                        <td id=\"T_7f5002d0_6b02_11e9_b5ef_0242ac1c0002row4_col1\" class=\"data row4 col1\" >0.54</td>\n",
              "                        <td id=\"T_7f5002d0_6b02_11e9_b5ef_0242ac1c0002row4_col2\" class=\"data row4 col2\" >0.56</td>\n",
              "                        <td id=\"T_7f5002d0_6b02_11e9_b5ef_0242ac1c0002row4_col3\" class=\"data row4 col3\" >0.48</td>\n",
              "                        <td id=\"T_7f5002d0_6b02_11e9_b5ef_0242ac1c0002row4_col4\" class=\"data row4 col4\" >1</td>\n",
              "                        <td id=\"T_7f5002d0_6b02_11e9_b5ef_0242ac1c0002row4_col5\" class=\"data row4 col5\" >-0.0033</td>\n",
              "            </tr>\n",
              "            <tr>\n",
              "                        <th id=\"T_7f5002d0_6b02_11e9_b5ef_0242ac1c0002level0_row5\" class=\"row_heading level0 row5\" >weekday</th>\n",
              "                        <td id=\"T_7f5002d0_6b02_11e9_b5ef_0242ac1c0002row5_col0\" class=\"data row5 col0\" >-0.0019</td>\n",
              "                        <td id=\"T_7f5002d0_6b02_11e9_b5ef_0242ac1c0002row5_col1\" class=\"data row5 col1\" >-0.0022</td>\n",
              "                        <td id=\"T_7f5002d0_6b02_11e9_b5ef_0242ac1c0002row5_col2\" class=\"data row5 col2\" >-0.0042</td>\n",
              "                        <td id=\"T_7f5002d0_6b02_11e9_b5ef_0242ac1c0002row5_col3\" class=\"data row5 col3\" >-0.0048</td>\n",
              "                        <td id=\"T_7f5002d0_6b02_11e9_b5ef_0242ac1c0002row5_col4\" class=\"data row5 col4\" >-0.0033</td>\n",
              "                        <td id=\"T_7f5002d0_6b02_11e9_b5ef_0242ac1c0002row5_col5\" class=\"data row5 col5\" >1</td>\n",
              "            </tr>\n",
              "    </tbody></table>"
            ],
            "text/plain": [
              "<pandas.io.formats.style.Styler at 0x7f594ad15908>"
            ]
          },
          "metadata": {
            "tags": []
          },
          "execution_count": 84
        }
      ]
    },
    {
      "cell_type": "code",
      "metadata": {
        "colab_type": "code",
        "id": "AhI5GRLzFF_W",
        "outputId": "76ed76ec-ac62-4cc2-fee3-1129616ec553",
        "colab": {
          "base_uri": "https://localhost:8080/",
          "height": 1187
        }
      },
      "source": [
        "\n",
        "\n",
        "host_price = join.groupby(['listing_id','weekday'])['price'].mean().reset_index()\n",
        "host_price_even = host_price.iloc[::2].reset_index(drop=True)\n",
        "host_price_odd = host_price.iloc[1::2].reset_index(drop=True)\n",
        "price_diff = host_price_even['price'] - host_price_odd['price']\n",
        "host_price_even.drop(price_diff[price_diff == 0].index, inplace=True)\n",
        "print(len(host_price_even))\n",
        "print(host_price_even)\n",
        "\n",
        "#weekday_price = join.groupby(['weekday'])['price'].mean()\n",
        "#weekday_price"
      ],
      "execution_count": 0,
      "outputs": [
        {
          "output_type": "stream",
          "text": [
            "572\n",
            "     listing_id  weekday       price\n",
            "0         26567        0   49.483871\n",
            "2         77482        0  562.878049\n",
            "5        118731        0   48.407407\n",
            "6        131487        0  116.145833\n",
            "9        222369        0  109.479167\n",
            "10       279246        0  100.684211\n",
            "14       380500        0   70.544118\n",
            "15       432537        0  374.000000\n",
            "18       483819        0   67.500000\n",
            "19       503231        0  102.635294\n",
            "20       526719        0  104.756757\n",
            "21       557246        0  324.787234\n",
            "22       561155        0   49.333333\n",
            "23       593465        0  124.729167\n",
            "25       682531        0   57.064516\n",
            "26       689956        0   71.428571\n",
            "28       704672        0  172.392157\n",
            "29       706690        0   87.500000\n",
            "35       833988        0   83.000000\n",
            "37       882844        0   72.166667\n",
            "39       897778        0  138.375000\n",
            "40      1041958        0  171.896552\n",
            "42      1137130        0   72.058824\n",
            "44      1169377        0   95.000000\n",
            "49      1237967        0   31.571429\n",
            "53      1285350        0   80.570000\n",
            "55      1327106        0   74.730769\n",
            "60      1456058        0   47.961165\n",
            "61      1482365        0   60.986486\n",
            "63      1516695        0   59.836957\n",
            "..          ...      ...         ...\n",
            "700    21593464        1   53.100000\n",
            "701    21609440        1   68.125000\n",
            "702    21646653        1   72.272727\n",
            "703    21651454        1  100.000000\n",
            "704    21672840        1  150.000000\n",
            "707    21766791        0  104.234694\n",
            "710    21809712        0  104.631579\n",
            "712    21822928        0   63.222222\n",
            "716    21916953        0  161.950820\n",
            "719    21961416        0   83.462687\n",
            "720    21974927        0   95.000000\n",
            "722    22026553        0   65.000000\n",
            "723    22043526        0   54.375000\n",
            "726    22074993        0   70.888889\n",
            "729    22116611        0  196.500000\n",
            "731    22134350        0  233.714286\n",
            "732    22142914        0   47.189189\n",
            "733    22201902        0  118.105769\n",
            "734    22202682        0   99.242105\n",
            "735    22204821        0  204.438202\n",
            "738    22241614        0   89.012195\n",
            "739    22252441        0   19.400000\n",
            "743    22359160        0   90.000000\n",
            "744    22368094        0   76.699029\n",
            "745    22398734        0  731.732673\n",
            "751    22560207        0  253.588235\n",
            "755    22632895        0   60.738462\n",
            "757    22710951        0   49.843137\n",
            "758    22730380        0   51.181818\n",
            "760    22742788        0   77.812500\n",
            "\n",
            "[572 rows x 3 columns]\n"
          ],
          "name": "stdout"
        }
      ]
    },
    {
      "cell_type": "code",
      "metadata": {
        "colab_type": "code",
        "id": "B0vztM1IJGLD",
        "colab": {}
      },
      "source": [
        ""
      ],
      "execution_count": 0,
      "outputs": []
    }
  ]
}